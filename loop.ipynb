{
 "cells": [
  {
   "cell_type": "code",
   "execution_count": 1,
   "id": "3b254813-802f-473e-8e05-4659c0d622a6",
   "metadata": {},
   "outputs": [],
   "source": [
    "l = [ 4,5,8,4,4,7,2,5,]"
   ]
  },
  {
   "cell_type": "code",
   "execution_count": 4,
   "id": "f170b16b-d535-400d-8704-4825efdd5cb0",
   "metadata": {},
   "outputs": [
    {
     "name": "stdout",
     "output_type": "stream",
     "text": [
      "4\n",
      "5\n",
      "8\n",
      "4\n",
      "4\n",
      "7\n",
      "2\n",
      "5\n"
     ]
    }
   ],
   "source": [
    "for i in l :\n",
    "    print(i)"
   ]
  },
  {
   "cell_type": "code",
   "execution_count": 5,
   "id": "2aeb76c3-8d38-41e4-b28d-9bb4092148cb",
   "metadata": {},
   "outputs": [],
   "source": [
    "l1= [\"prince\",\"kumar\",\"krish\"]"
   ]
  },
  {
   "cell_type": "code",
   "execution_count": 6,
   "id": "adb00516-4bb7-4993-8d89-8261182cb3e3",
   "metadata": {},
   "outputs": [
    {
     "name": "stdout",
     "output_type": "stream",
     "text": [
      "prince\n",
      "kumar\n",
      "krish\n"
     ]
    }
   ],
   "source": [
    "for i in l1 :\n",
    "    print(i)"
   ]
  },
  {
   "cell_type": "code",
   "execution_count": 7,
   "id": "53a981df-31ce-42a6-a0c8-b80f99477a0f",
   "metadata": {},
   "outputs": [
    {
     "data": {
      "text/plain": [
       "['prince', 'kumar', 'krish']"
      ]
     },
     "execution_count": 7,
     "metadata": {},
     "output_type": "execute_result"
    }
   ],
   "source": [
    "l1"
   ]
  },
  {
   "cell_type": "code",
   "execution_count": 10,
   "id": "87de1194-e865-4822-bdae-77002db044fb",
   "metadata": {},
   "outputs": [
    {
     "name": "stdout",
     "output_type": "stream",
     "text": [
      "prince\n",
      "kumar\n",
      "krish\n",
      "do somthing\n"
     ]
    }
   ],
   "source": [
    "for i in l1 :\n",
    "    print(i)\n",
    "else:\n",
    "    print(\"do somthing\")\n",
    "#if for loop is able to complet \n",
    "#itself then only else will execute"
   ]
  },
  {
   "cell_type": "code",
   "execution_count": 19,
   "id": "ea45f4d5-4c72-404b-824d-bbcca2864cbf",
   "metadata": {},
   "outputs": [
    {
     "name": "stdout",
     "output_type": "stream",
     "text": [
      "prince\n"
     ]
    }
   ],
   "source": [
    "for i in l1 :\n",
    "    if i == \"kumar\":\n",
    "        break\n",
    "    print(i)"
   ]
  },
  {
   "cell_type": "code",
   "execution_count": 20,
   "id": "83075b6d-8d2f-4870-80cb-92fa28b5afd4",
   "metadata": {},
   "outputs": [
    {
     "data": {
      "text/plain": [
       "['prince', 'kumar', 'krish']"
      ]
     },
     "execution_count": 20,
     "metadata": {},
     "output_type": "execute_result"
    }
   ],
   "source": [
    "l1"
   ]
  },
  {
   "cell_type": "code",
   "execution_count": 21,
   "id": "92468795-d1c8-432f-bbf9-eb2688d96c79",
   "metadata": {},
   "outputs": [
    {
     "name": "stdout",
     "output_type": "stream",
     "text": [
      "prince\n"
     ]
    }
   ],
   "source": [
    "for i in l1 :\n",
    "    if i == \"kumar\":\n",
    "        break\n",
    "    print(i)\n",
    "else:\n",
    "    print(\"exute this if for is able to complete itself\")"
   ]
  },
  {
   "cell_type": "code",
   "execution_count": 22,
   "id": "5f056a12-bd88-45a1-afce-e34330907de5",
   "metadata": {},
   "outputs": [
    {
     "data": {
      "text/plain": [
       "['prince', 'kumar', 'krish']"
      ]
     },
     "execution_count": 22,
     "metadata": {},
     "output_type": "execute_result"
    }
   ],
   "source": [
    "l1"
   ]
  },
  {
   "cell_type": "code",
   "execution_count": 23,
   "id": "0f4fa64c-3d40-4e09-9659-d96f61bbe8c6",
   "metadata": {},
   "outputs": [
    {
     "name": "stdout",
     "output_type": "stream",
     "text": [
      "prince\n",
      "krish\n"
     ]
    }
   ],
   "source": [
    "for i in l1 :\n",
    "    if i == \"kumar\":\n",
    "        continue\n",
    "    print(i)"
   ]
  },
  {
   "cell_type": "code",
   "execution_count": 24,
   "id": "3e722de0-bb89-4976-9b92-abae76b83d54",
   "metadata": {},
   "outputs": [
    {
     "name": "stdout",
     "output_type": "stream",
     "text": [
      "prince\n",
      "krish\n",
      "exute this if for is able to complete itself\n"
     ]
    }
   ],
   "source": [
    "for i in l1 :\n",
    "    if i == \"kumar\":\n",
    "        continue\n",
    "    print(i)\n",
    "else:\n",
    "    \n",
    "    print(\"exute this if for is able to complete itself\")"
   ]
  },
  {
   "cell_type": "code",
   "execution_count": 26,
   "id": "3ca15d0b-9229-4cab-9429-8b15cda3ce23",
   "metadata": {},
   "outputs": [
    {
     "data": {
      "text/plain": [
       "range(0, 5)"
      ]
     },
     "execution_count": 26,
     "metadata": {},
     "output_type": "execute_result"
    }
   ],
   "source": [
    "range(5)\n",
    "#generate int value"
   ]
  },
  {
   "cell_type": "code",
   "execution_count": 27,
   "id": "74f58ab1-036f-4126-912f-0906d86bc999",
   "metadata": {},
   "outputs": [
    {
     "data": {
      "text/plain": [
       "[0, 1, 2, 3, 4]"
      ]
     },
     "execution_count": 27,
     "metadata": {},
     "output_type": "execute_result"
    }
   ],
   "source": [
    "list(range(5))"
   ]
  },
  {
   "cell_type": "code",
   "execution_count": 28,
   "id": "12f9c490-c216-44f9-a0ef-e63a8080b79f",
   "metadata": {},
   "outputs": [
    {
     "data": {
      "text/plain": [
       "[0, 1, 2, 3, 4]"
      ]
     },
     "execution_count": 28,
     "metadata": {},
     "output_type": "execute_result"
    }
   ],
   "source": [
    "list(range(0,5,1))"
   ]
  },
  {
   "cell_type": "code",
   "execution_count": 29,
   "id": "87a6e90c-6ac3-444a-9c40-b2ae449359af",
   "metadata": {},
   "outputs": [
    {
     "data": {
      "text/plain": [
       "range(0, 20, 2)"
      ]
     },
     "execution_count": 29,
     "metadata": {},
     "output_type": "execute_result"
    }
   ],
   "source": [
    "range(0,20,2)"
   ]
  },
  {
   "cell_type": "code",
   "execution_count": 30,
   "id": "851e46bd-234e-4472-ab77-ed2a1e14b843",
   "metadata": {},
   "outputs": [
    {
     "data": {
      "text/plain": [
       "[0, 2, 4, 6, 8, 10, 12, 14, 16, 18]"
      ]
     },
     "execution_count": 30,
     "metadata": {},
     "output_type": "execute_result"
    }
   ],
   "source": [
    "list(range(0,20,2))"
   ]
  },
  {
   "cell_type": "code",
   "execution_count": 31,
   "id": "0a6258b8-4d2d-4a03-84fa-b93a4f2ffa1f",
   "metadata": {},
   "outputs": [
    {
     "data": {
      "text/plain": [
       "[-10, -9, -8, -7, -6, -5, -4, -3, -2, -1]"
      ]
     },
     "execution_count": 31,
     "metadata": {},
     "output_type": "execute_result"
    }
   ],
   "source": [
    "list(range(-10,0))"
   ]
  },
  {
   "cell_type": "code",
   "execution_count": 32,
   "id": "a4879e38-90c2-4601-87e6-3ad4f98841a9",
   "metadata": {},
   "outputs": [
    {
     "data": {
      "text/plain": [
       "['prince', 'kumar', 'krish']"
      ]
     },
     "execution_count": 32,
     "metadata": {},
     "output_type": "execute_result"
    }
   ],
   "source": [
    "l1"
   ]
  },
  {
   "cell_type": "code",
   "execution_count": 34,
   "id": "e05e8f72-1e07-424e-9f5e-21634bdb5f82",
   "metadata": {},
   "outputs": [
    {
     "data": {
      "text/plain": [
       "[0, 1, 2]"
      ]
     },
     "execution_count": 34,
     "metadata": {},
     "output_type": "execute_result"
    }
   ],
   "source": [
    "list(range(len(l1)))"
   ]
  },
  {
   "cell_type": "code",
   "execution_count": 37,
   "id": "8ca50650-2b1a-4ade-9170-4423f5a950f8",
   "metadata": {},
   "outputs": [
    {
     "name": "stdout",
     "output_type": "stream",
     "text": [
      "prince\n",
      "kumar\n",
      "krish\n"
     ]
    }
   ],
   "source": [
    "for i in range(len(l1)):\n",
    "    print(l1[i])"
   ]
  },
  {
   "cell_type": "code",
   "execution_count": 44,
   "id": "79a3b273-b608-496e-a113-d3735bddd3a2",
   "metadata": {},
   "outputs": [
    {
     "name": "stdout",
     "output_type": "stream",
     "text": [
      "krish\n",
      "kumar\n",
      "prince\n"
     ]
    }
   ],
   "source": [
    "for i in list(range(len(l1)-1,-1,-1)):\n",
    "     print(l1[i])"
   ]
  },
  {
   "cell_type": "code",
   "execution_count": 45,
   "id": "ab27ffc5-f2dc-41fe-b13a-749ee8215892",
   "metadata": {},
   "outputs": [],
   "source": [
    "l2 = [78,989,98,25,62,91,89,96,36,45]"
   ]
  },
  {
   "cell_type": "code",
   "execution_count": 46,
   "id": "b3c8e645-1ede-41d0-b7f3-5aefb28deda5",
   "metadata": {},
   "outputs": [
    {
     "data": {
      "text/plain": [
       "[0, 2, 4, 6, 8]"
      ]
     },
     "execution_count": 46,
     "metadata": {},
     "output_type": "execute_result"
    }
   ],
   "source": [
    "list(range(0,len(l2),2))"
   ]
  },
  {
   "cell_type": "code",
   "execution_count": 49,
   "id": "1499bf73-3084-4ab6-a996-ff7577a4421b",
   "metadata": {},
   "outputs": [
    {
     "name": "stdout",
     "output_type": "stream",
     "text": [
      "78\n",
      "98\n",
      "62\n",
      "89\n",
      "36\n"
     ]
    }
   ],
   "source": [
    "for i in range(0,len(l2),2) :\n",
    "    print(l2[i])"
   ]
  },
  {
   "cell_type": "code",
   "execution_count": 51,
   "id": "e81752c6-60ca-4ec1-88d3-e186da304da8",
   "metadata": {},
   "outputs": [
    {
     "data": {
      "text/plain": [
       "[4, 5, 8, 4, 4, 7, 2, 5]"
      ]
     },
     "execution_count": 51,
     "metadata": {},
     "output_type": "execute_result"
    }
   ],
   "source": [
    "l"
   ]
  },
  {
   "cell_type": "code",
   "execution_count": 56,
   "id": "2b8f7ad7-e2bf-4a6b-88d3-81984644eeb9",
   "metadata": {},
   "outputs": [
    {
     "data": {
      "text/plain": [
       "39"
      ]
     },
     "execution_count": 56,
     "metadata": {},
     "output_type": "execute_result"
    }
   ],
   "source": [
    "result = 0\n",
    "for i in l :\n",
    "    result = result+ i\n",
    "result"
   ]
  },
  {
   "cell_type": "code",
   "execution_count": 57,
   "id": "28153dba-8fb1-4cf1-8b5f-85ceca091c7f",
   "metadata": {},
   "outputs": [
    {
     "data": {
      "text/plain": [
       "39"
      ]
     },
     "execution_count": 57,
     "metadata": {},
     "output_type": "execute_result"
    }
   ],
   "source": [
    "sum(l)"
   ]
  },
  {
   "cell_type": "code",
   "execution_count": 58,
   "id": "fe10febe-e9f8-4ca6-8dc4-454b964b18e1",
   "metadata": {},
   "outputs": [],
   "source": [
    "t = {1,2,3,4,5,6,7,8}"
   ]
  },
  {
   "cell_type": "code",
   "execution_count": 59,
   "id": "83eff7fe-a1a6-488e-86d0-18b40dfbebd1",
   "metadata": {},
   "outputs": [
    {
     "name": "stdout",
     "output_type": "stream",
     "text": [
      "1\n",
      "2\n",
      "3\n",
      "4\n",
      "5\n",
      "6\n",
      "7\n",
      "8\n"
     ]
    }
   ],
   "source": [
    "for i in t:\n",
    "    print(i)"
   ]
  },
  {
   "cell_type": "code",
   "execution_count": 60,
   "id": "a371d19b-dae6-4ed8-9fa6-dd57acd380ef",
   "metadata": {},
   "outputs": [
    {
     "data": {
      "text/plain": [
       "36"
      ]
     },
     "execution_count": 60,
     "metadata": {},
     "output_type": "execute_result"
    }
   ],
   "source": [
    "result= 0\n",
    "for i in t :\n",
    "    result = result + i\n",
    "result"
   ]
  },
  {
   "cell_type": "code",
   "execution_count": 61,
   "id": "0f804685-b893-42c2-829e-d9b538666db1",
   "metadata": {},
   "outputs": [
    {
     "data": {
      "text/plain": [
       "36"
      ]
     },
     "execution_count": 61,
     "metadata": {},
     "output_type": "execute_result"
    }
   ],
   "source": [
    "sum(t)"
   ]
  },
  {
   "cell_type": "code",
   "execution_count": 62,
   "id": "f875e87f-7ea9-4a33-babb-d89a3fd57aed",
   "metadata": {},
   "outputs": [],
   "source": [
    "s ={5,9,9,4,9,5,6,54,5,\"Prince\",\"Kumar\"}"
   ]
  },
  {
   "cell_type": "code",
   "execution_count": 63,
   "id": "2ea210ac-d705-4ac5-8c28-73d34dfbac96",
   "metadata": {},
   "outputs": [
    {
     "name": "stdout",
     "output_type": "stream",
     "text": [
      "Prince\n",
      "4\n",
      "5\n",
      "6\n",
      "54\n",
      "9\n",
      "Kumar\n"
     ]
    }
   ],
   "source": [
    "for i in s :\n",
    "    print(i)"
   ]
  },
  {
   "cell_type": "code",
   "execution_count": 64,
   "id": "9f54fe80-8781-47d2-ba9c-c41a371a76f2",
   "metadata": {},
   "outputs": [],
   "source": [
    "s1= \"prince\""
   ]
  },
  {
   "cell_type": "code",
   "execution_count": 66,
   "id": "cc310394-e4d0-4dc7-96e2-216bf805096b",
   "metadata": {},
   "outputs": [
    {
     "name": "stdout",
     "output_type": "stream",
     "text": [
      "p\n",
      "r\n",
      "i\n",
      "n\n",
      "c\n",
      "e\n"
     ]
    }
   ],
   "source": [
    "for i in s1:\n",
    "    print(i)"
   ]
  },
  {
   "cell_type": "code",
   "execution_count": 67,
   "id": "c6fe5a20-4271-48a5-8622-a1ea23511f9c",
   "metadata": {},
   "outputs": [],
   "source": [
    "d = {\"n\":\"prince\",\"c\":\"b.tech\",\"topic\":[\"python\",\"dl\"]}"
   ]
  },
  {
   "cell_type": "code",
   "execution_count": 68,
   "id": "3216151a-c91c-4305-8f14-9fc4411e61a0",
   "metadata": {},
   "outputs": [
    {
     "data": {
      "text/plain": [
       "{'n': 'prince', 'c': 'b.tech', 'topic': ['python', 'dl']}"
      ]
     },
     "execution_count": 68,
     "metadata": {},
     "output_type": "execute_result"
    }
   ],
   "source": [
    "d"
   ]
  },
  {
   "cell_type": "code",
   "execution_count": 69,
   "id": "715e14ea-c25c-45da-aae8-025ddbe9a70e",
   "metadata": {},
   "outputs": [
    {
     "data": {
      "text/plain": [
       "'prince'"
      ]
     },
     "execution_count": 69,
     "metadata": {},
     "output_type": "execute_result"
    }
   ],
   "source": [
    "d[\"n\"]"
   ]
  },
  {
   "cell_type": "code",
   "execution_count": 70,
   "id": "e5bde56f-ce87-4db8-8578-0dc6acff1948",
   "metadata": {},
   "outputs": [
    {
     "name": "stdout",
     "output_type": "stream",
     "text": [
      "prince\n",
      "b.tech\n",
      "['python', 'dl']\n"
     ]
    }
   ],
   "source": [
    "for i in d.keys():\n",
    "    print(d[i])"
   ]
  },
  {
   "cell_type": "code",
   "execution_count": 71,
   "id": "bb72fdae-e962-48ab-950e-7274600102e1",
   "metadata": {},
   "outputs": [
    {
     "data": {
      "text/plain": [
       "dict_values(['prince', 'b.tech', ['python', 'dl']])"
      ]
     },
     "execution_count": 71,
     "metadata": {},
     "output_type": "execute_result"
    }
   ],
   "source": [
    "d.values()"
   ]
  },
  {
   "cell_type": "code",
   "execution_count": 72,
   "id": "84877e61-e165-4464-9a61-f8597766fcc0",
   "metadata": {},
   "outputs": [
    {
     "name": "stdout",
     "output_type": "stream",
     "text": [
      "prince\n",
      "b.tech\n",
      "['python', 'dl']\n"
     ]
    }
   ],
   "source": [
    "for i in d.values():\n",
    "    print(i)"
   ]
  },
  {
   "cell_type": "code",
   "execution_count": 73,
   "id": "c3189ded-f34e-43ba-971a-4cffc475e541",
   "metadata": {},
   "outputs": [
    {
     "data": {
      "text/plain": [
       "dict_items([('n', 'prince'), ('c', 'b.tech'), ('topic', ['python', 'dl'])])"
      ]
     },
     "execution_count": 73,
     "metadata": {},
     "output_type": "execute_result"
    }
   ],
   "source": [
    "d.items()"
   ]
  },
  {
   "cell_type": "code",
   "execution_count": 74,
   "id": "2e9af2b3-ddeb-46c3-b95a-025ac0381d09",
   "metadata": {},
   "outputs": [
    {
     "name": "stdout",
     "output_type": "stream",
     "text": [
      "('n', 'prince')\n",
      "('c', 'b.tech')\n",
      "('topic', ['python', 'dl'])\n"
     ]
    }
   ],
   "source": [
    "for i in d.items():\n",
    "    print(i)"
   ]
  },
  {
   "cell_type": "code",
   "execution_count": 78,
   "id": "722b6aca-ad9e-45d5-83a8-50c7eed1ba40",
   "metadata": {},
   "outputs": [
    {
     "data": {
      "text/plain": [
       "False"
      ]
     },
     "execution_count": 78,
     "metadata": {},
     "output_type": "execute_result"
    }
   ],
   "source": [
    "False or False or False"
   ]
  },
  {
   "cell_type": "code",
   "execution_count": 80,
   "id": "19b7b754-5400-4b8e-8a4b-77ee1b3e03a6",
   "metadata": {},
   "outputs": [],
   "source": [
    "string =\"p w s k i l l s\"\n"
   ]
  },
  {
   "cell_type": "code",
   "execution_count": 81,
   "id": "67e65371-90d7-497b-a15f-59aac013c355",
   "metadata": {},
   "outputs": [
    {
     "data": {
      "text/plain": [
       "'p w s k i l l s'"
      ]
     },
     "execution_count": 81,
     "metadata": {},
     "output_type": "execute_result"
    }
   ],
   "source": [
    "string"
   ]
  },
  {
   "cell_type": "code",
   "execution_count": 82,
   "id": "f8a8b17c-0aaa-4e95-99f7-b4605fdcd22c",
   "metadata": {},
   "outputs": [
    {
     "data": {
      "text/plain": [
       "False"
      ]
     },
     "execution_count": 82,
     "metadata": {},
     "output_type": "execute_result"
    }
   ],
   "source": [
    "\"pwskill\"[::-1].upper().replace(\"SLLIKSWP\",\"pwskills\").islower()"
   ]
  },
  {
   "cell_type": "code",
   "execution_count": null,
   "id": "af59b682-844a-42f1-8dbe-08d18962591f",
   "metadata": {},
   "outputs": [],
   "source": []
  }
 ],
 "metadata": {
  "kernelspec": {
   "display_name": "Python 3 (ipykernel)",
   "language": "python",
   "name": "python3"
  },
  "language_info": {
   "codemirror_mode": {
    "name": "ipython",
    "version": 3
   },
   "file_extension": ".py",
   "mimetype": "text/x-python",
   "name": "python",
   "nbconvert_exporter": "python",
   "pygments_lexer": "ipython3",
   "version": "3.10.8"
  }
 },
 "nbformat": 4,
 "nbformat_minor": 5
}
