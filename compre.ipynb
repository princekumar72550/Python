{
 "cells": [
  {
   "cell_type": "code",
   "execution_count": 5,
   "id": "7b61d525-a612-4c01-91d0-a8957845e773",
   "metadata": {},
   "outputs": [],
   "source": [
    "l = [5,9,5,6,9,4,8,9,1,4]\n",
    "l1 = []\n",
    "for i in l :\n",
    "    l1.append(i**2)"
   ]
  },
  {
   "cell_type": "code",
   "execution_count": 6,
   "id": "6e5130a4-808f-4d5b-a29d-2e57a456a3ab",
   "metadata": {},
   "outputs": [
    {
     "data": {
      "text/plain": [
       "[25, 81, 25, 36, 81, 16, 64, 81, 1, 16]"
      ]
     },
     "execution_count": 6,
     "metadata": {},
     "output_type": "execute_result"
    }
   ],
   "source": [
    "l1"
   ]
  },
  {
   "cell_type": "code",
   "execution_count": 7,
   "id": "4a68868f-4f7f-40af-8e3d-7b5bb71a06c0",
   "metadata": {},
   "outputs": [
    {
     "data": {
      "text/plain": [
       "[5, 9, 5, 6, 9, 4, 8, 9, 1, 4]"
      ]
     },
     "execution_count": 7,
     "metadata": {},
     "output_type": "execute_result"
    }
   ],
   "source": [
    "l"
   ]
  },
  {
   "cell_type": "code",
   "execution_count": 9,
   "id": "50189bf8-ab7d-4fa4-8c29-a28929b00936",
   "metadata": {},
   "outputs": [
    {
     "data": {
      "text/plain": [
       "[25, 81, 25, 36, 81, 16, 64, 81, 1, 16]"
      ]
     },
     "execution_count": 9,
     "metadata": {},
     "output_type": "execute_result"
    }
   ],
   "source": [
    "[i**2 for i in l]"
   ]
  },
  {
   "cell_type": "code",
   "execution_count": 10,
   "id": "356eed65-8f08-4ad2-bd44-167bcc1bcea1",
   "metadata": {},
   "outputs": [
    {
     "data": {
      "text/plain": [
       "[5, 9, 5, 6, 9, 4, 8, 9, 1, 4]"
      ]
     },
     "execution_count": 10,
     "metadata": {},
     "output_type": "execute_result"
    }
   ],
   "source": [
    "l"
   ]
  },
  {
   "cell_type": "code",
   "execution_count": 12,
   "id": "913e25b9-617e-4f74-bd32-56ccb81a7538",
   "metadata": {},
   "outputs": [
    {
     "data": {
      "text/plain": [
       "[6, 4, 8, 4]"
      ]
     },
     "execution_count": 12,
     "metadata": {},
     "output_type": "execute_result"
    }
   ],
   "source": [
    "[i for i in l if i % 2 ==0]"
   ]
  },
  {
   "cell_type": "code",
   "execution_count": 13,
   "id": "465a34e5-c89a-4cce-ab8d-bd2c2a46bfaf",
   "metadata": {},
   "outputs": [],
   "source": [
    "l1 =[\"prince\",\"kumar\",\"data\"]"
   ]
  },
  {
   "cell_type": "code",
   "execution_count": 18,
   "id": "eaca1257-25fa-461b-98ef-60fdcae68c55",
   "metadata": {},
   "outputs": [
    {
     "data": {
      "text/plain": [
       "['PRINCE', 'KUMAR', 'DATA']"
      ]
     },
     "execution_count": 18,
     "metadata": {},
     "output_type": "execute_result"
    }
   ],
   "source": [
    "[i.upper() for i in l1]"
   ]
  },
  {
   "cell_type": "code",
   "execution_count": 19,
   "id": "5bc5c0b3-4c06-4594-8d81-b1dc72cef159",
   "metadata": {},
   "outputs": [
    {
     "data": {
      "text/plain": [
       "[5, 9, 5, 6, 9, 4, 8, 9, 1, 4]"
      ]
     },
     "execution_count": 19,
     "metadata": {},
     "output_type": "execute_result"
    }
   ],
   "source": [
    "l"
   ]
  },
  {
   "cell_type": "code",
   "execution_count": 20,
   "id": "0e3d3d22-3c4d-4007-8332-5fc2f76fd711",
   "metadata": {},
   "outputs": [
    {
     "data": {
      "text/plain": [
       "[25, 81, 25, 36, 81, 16, 64, 81, 1, 16]"
      ]
     },
     "execution_count": 20,
     "metadata": {},
     "output_type": "execute_result"
    }
   ],
   "source": [
    "list(i**2 for i in l)"
   ]
  },
  {
   "cell_type": "code",
   "execution_count": 21,
   "id": "42643040-0940-4417-be07-98ed1c6c4da7",
   "metadata": {},
   "outputs": [],
   "source": [
    "d = {\"p\":1,\"r\":2,\"r\":3,\"i\":5}"
   ]
  },
  {
   "cell_type": "code",
   "execution_count": 23,
   "id": "b2f510e0-8318-49ee-a7f0-7d57ef5b56ff",
   "metadata": {},
   "outputs": [
    {
     "data": {
      "text/plain": [
       "{'p': 1, 'r': 9, 'i': 25}"
      ]
     },
     "execution_count": 23,
     "metadata": {},
     "output_type": "execute_result"
    }
   ],
   "source": [
    "{k:v**2 for k , v in d.items()}"
   ]
  },
  {
   "cell_type": "code",
   "execution_count": 24,
   "id": "12b8c5ca-6817-4995-9549-8ba551368845",
   "metadata": {},
   "outputs": [
    {
     "data": {
      "text/plain": [
       "dict_items([('p', 1), ('r', 3), ('i', 5)])"
      ]
     },
     "execution_count": 24,
     "metadata": {},
     "output_type": "execute_result"
    }
   ],
   "source": [
    "d.items()"
   ]
  },
  {
   "cell_type": "code",
   "execution_count": null,
   "id": "1b7b817d-05cf-45cd-bef1-c95daae066ac",
   "metadata": {},
   "outputs": [],
   "source": [
    "{}"
   ]
  }
 ],
 "metadata": {
  "kernelspec": {
   "display_name": "Python 3 (ipykernel)",
   "language": "python",
   "name": "python3"
  },
  "language_info": {
   "codemirror_mode": {
    "name": "ipython",
    "version": 3
   },
   "file_extension": ".py",
   "mimetype": "text/x-python",
   "name": "python",
   "nbconvert_exporter": "python",
   "pygments_lexer": "ipython3",
   "version": "3.10.8"
  }
 },
 "nbformat": 4,
 "nbformat_minor": 5
}
