{
 "cells": [
  {
   "cell_type": "code",
   "execution_count": 1,
   "id": "e334c46c-0526-4188-8f52-257cdfee3016",
   "metadata": {},
   "outputs": [
    {
     "data": {
      "text/plain": [
       "2"
      ]
     },
     "execution_count": 1,
     "metadata": {},
     "output_type": "execute_result"
    }
   ],
   "source": [
    "1+1"
   ]
  },
  {
   "cell_type": "code",
   "execution_count": 4,
   "id": "690d4c0b-8e16-4da0-a9db-04cb631dd0f4",
   "metadata": {},
   "outputs": [],
   "source": [
    "a=10"
   ]
  },
  {
   "cell_type": "code",
   "execution_count": 5,
   "id": "4012d7b4-4110-45b2-b600-6406d76fec44",
   "metadata": {},
   "outputs": [
    {
     "data": {
      "text/plain": [
       "10"
      ]
     },
     "execution_count": 5,
     "metadata": {},
     "output_type": "execute_result"
    }
   ],
   "source": [
    "a"
   ]
  },
  {
   "cell_type": "code",
   "execution_count": 6,
   "id": "5abf91a0-1a78-4f97-aea7-e946c8e80ecf",
   "metadata": {},
   "outputs": [
    {
     "data": {
      "text/plain": [
       "int"
      ]
     },
     "execution_count": 6,
     "metadata": {},
     "output_type": "execute_result"
    }
   ],
   "source": [
    "type(a)"
   ]
  },
  {
   "cell_type": "code",
   "execution_count": 7,
   "id": "84830caa-c018-4b89-b850-6373a30e5958",
   "metadata": {},
   "outputs": [],
   "source": [
    "c=562.3659"
   ]
  },
  {
   "cell_type": "code",
   "execution_count": 8,
   "id": "574146c3-18df-4c9f-a724-4dfc25cd2a44",
   "metadata": {},
   "outputs": [
    {
     "data": {
      "text/plain": [
       "float"
      ]
     },
     "execution_count": 8,
     "metadata": {},
     "output_type": "execute_result"
    }
   ],
   "source": [
    "type(c)"
   ]
  },
  {
   "cell_type": "code",
   "execution_count": 9,
   "id": "005d5eeb-ff0e-49b7-a590-6535cb6266c7",
   "metadata": {},
   "outputs": [],
   "source": [
    "d=\"prince\""
   ]
  },
  {
   "cell_type": "code",
   "execution_count": 10,
   "id": "9c21eb42-4217-4da5-aa09-81edcdc168b4",
   "metadata": {},
   "outputs": [
    {
     "data": {
      "text/plain": [
       "str"
      ]
     },
     "execution_count": 10,
     "metadata": {},
     "output_type": "execute_result"
    }
   ],
   "source": [
    "type(d)"
   ]
  },
  {
   "cell_type": "code",
   "execution_count": 11,
   "id": "89dae2ca-5c7d-4eb9-869b-d65fe28315da",
   "metadata": {},
   "outputs": [],
   "source": [
    "n=True"
   ]
  },
  {
   "cell_type": "code",
   "execution_count": 12,
   "id": "83fe3694-1149-4870-b4ce-2c114b222e98",
   "metadata": {},
   "outputs": [
    {
     "data": {
      "text/plain": [
       "bool"
      ]
     },
     "execution_count": 12,
     "metadata": {},
     "output_type": "execute_result"
    }
   ],
   "source": [
    "type(n)"
   ]
  },
  {
   "cell_type": "code",
   "execution_count": 13,
   "id": "08d61db9-e213-4566-a794-a83d460b51e1",
   "metadata": {},
   "outputs": [
    {
     "data": {
      "text/plain": [
       "1"
      ]
     },
     "execution_count": 13,
     "metadata": {},
     "output_type": "execute_result"
    }
   ],
   "source": [
    "True*True"
   ]
  },
  {
   "cell_type": "code",
   "execution_count": 14,
   "id": "4f798311-b3ad-434d-bc53-4eab2b5401cc",
   "metadata": {},
   "outputs": [
    {
     "data": {
      "text/plain": [
       "0"
      ]
     },
     "execution_count": 14,
     "metadata": {},
     "output_type": "execute_result"
    }
   ],
   "source": [
    "True*False"
   ]
  },
  {
   "cell_type": "code",
   "execution_count": 15,
   "id": "600d6718-9bf2-4e75-b35e-44fbbb37b604",
   "metadata": {},
   "outputs": [
    {
     "ename": "ZeroDivisionError",
     "evalue": "division by zero",
     "output_type": "error",
     "traceback": [
      "\u001b[0;31m---------------------------------------------------------------------------\u001b[0m",
      "\u001b[0;31mZeroDivisionError\u001b[0m                         Traceback (most recent call last)",
      "Cell \u001b[0;32mIn[15], line 1\u001b[0m\n\u001b[0;32m----> 1\u001b[0m \u001b[38;5;28;43;01mTrue\u001b[39;49;00m\u001b[38;5;241;43m/\u001b[39;49m\u001b[38;5;28;43;01mFalse\u001b[39;49;00m\n",
      "\u001b[0;31mZeroDivisionError\u001b[0m: division by zero"
     ]
    }
   ],
   "source": [
    "True/False"
   ]
  },
  {
   "cell_type": "code",
   "execution_count": 16,
   "id": "c5c81608-f7c9-490b-8390-347cc034452e",
   "metadata": {},
   "outputs": [
    {
     "data": {
      "text/plain": [
       "0.0"
      ]
     },
     "execution_count": 16,
     "metadata": {},
     "output_type": "execute_result"
    }
   ],
   "source": [
    "False/True"
   ]
  },
  {
   "cell_type": "code",
   "execution_count": 17,
   "id": "717b47ea-98c8-48f8-b975-cf7c3c119786",
   "metadata": {},
   "outputs": [
    {
     "ename": "ZeroDivisionError",
     "evalue": "division by zero",
     "output_type": "error",
     "traceback": [
      "\u001b[0;31m---------------------------------------------------------------------------\u001b[0m",
      "\u001b[0;31mZeroDivisionError\u001b[0m                         Traceback (most recent call last)",
      "Cell \u001b[0;32mIn[17], line 1\u001b[0m\n\u001b[0;32m----> 1\u001b[0m \u001b[38;5;241;43m1\u001b[39;49m\u001b[38;5;241;43m/\u001b[39;49m\u001b[38;5;241;43m0\u001b[39;49m\n",
      "\u001b[0;31mZeroDivisionError\u001b[0m: division by zero"
     ]
    }
   ],
   "source": [
    "1/0"
   ]
  },
  {
   "cell_type": "code",
   "execution_count": 18,
   "id": "c168ea19-4293-46f4-8232-925e6c874ee0",
   "metadata": {},
   "outputs": [
    {
     "data": {
      "text/plain": [
       "0.0"
      ]
     },
     "execution_count": 18,
     "metadata": {},
     "output_type": "execute_result"
    }
   ],
   "source": [
    "0/1"
   ]
  },
  {
   "cell_type": "code",
   "execution_count": 19,
   "id": "34b5cd92-c124-4227-99bb-8580d3624aa4",
   "metadata": {},
   "outputs": [],
   "source": [
    "a = 5+8j"
   ]
  },
  {
   "cell_type": "code",
   "execution_count": 20,
   "id": "11316ee9-be9d-4264-b911-f27b7f0d60cb",
   "metadata": {},
   "outputs": [
    {
     "data": {
      "text/plain": [
       "complex"
      ]
     },
     "execution_count": 20,
     "metadata": {},
     "output_type": "execute_result"
    }
   ],
   "source": [
    "type(a)"
   ]
  },
  {
   "cell_type": "code",
   "execution_count": 2,
   "id": "2c1e3eb6-68b1-4581-b1b9-42ed435586bd",
   "metadata": {},
   "outputs": [],
   "source": [
    "a=\"prince\""
   ]
  },
  {
   "cell_type": "code",
   "execution_count": 3,
   "id": "fcde196f-1f34-45a6-9338-8c261607b021",
   "metadata": {},
   "outputs": [
    {
     "data": {
      "text/plain": [
       "'i'"
      ]
     },
     "execution_count": 3,
     "metadata": {},
     "output_type": "execute_result"
    }
   ],
   "source": [
    "a[2]"
   ]
  },
  {
   "cell_type": "code",
   "execution_count": 4,
   "id": "2cfbd067-8a6e-4dc5-bf5a-257276d0fa8f",
   "metadata": {},
   "outputs": [
    {
     "data": {
      "text/plain": [
       "'c'"
      ]
     },
     "execution_count": 4,
     "metadata": {},
     "output_type": "execute_result"
    }
   ],
   "source": [
    "a[4]"
   ]
  },
  {
   "cell_type": "code",
   "execution_count": 5,
   "id": "4ba85bea-7a94-443a-b10a-cc6039315f18",
   "metadata": {},
   "outputs": [
    {
     "data": {
      "text/plain": [
       "'princ'"
      ]
     },
     "execution_count": 5,
     "metadata": {},
     "output_type": "execute_result"
    }
   ],
   "source": [
    "a[0:5]"
   ]
  },
  {
   "cell_type": "code",
   "execution_count": 8,
   "id": "67f23044-4995-449c-b795-59e9a6a6aa88",
   "metadata": {},
   "outputs": [
    {
     "data": {
      "text/plain": [
       "'r'"
      ]
     },
     "execution_count": 8,
     "metadata": {},
     "output_type": "execute_result"
    }
   ],
   "source": [
    "a[1:2]"
   ]
  },
  {
   "cell_type": "code",
   "execution_count": 16,
   "id": "520e892a-1d8d-4fab-b684-bd62ab7262ba",
   "metadata": {},
   "outputs": [
    {
     "data": {
      "text/plain": [
       "'pic'"
      ]
     },
     "execution_count": 16,
     "metadata": {},
     "output_type": "execute_result"
    }
   ],
   "source": [
    "a[0:6:2]\n",
    "#jump"
   ]
  },
  {
   "cell_type": "code",
   "execution_count": 15,
   "id": "0d04e779-766f-426a-a968-430ea4daa0c7",
   "metadata": {},
   "outputs": [
    {
     "data": {
      "text/plain": [
       "'pic'"
      ]
     },
     "execution_count": 15,
     "metadata": {},
     "output_type": "execute_result"
    }
   ],
   "source": [
    "a[0::2]"
   ]
  },
  {
   "cell_type": "code",
   "execution_count": 17,
   "id": "1ff33486-1ec2-4c28-9b27-daf226b722e4",
   "metadata": {},
   "outputs": [
    {
     "data": {
      "text/plain": [
       "'ecnirp'"
      ]
     },
     "execution_count": 17,
     "metadata": {},
     "output_type": "execute_result"
    }
   ],
   "source": [
    "a[::-1]\n",
    "#reverce"
   ]
  },
  {
   "cell_type": "code",
   "execution_count": 18,
   "id": "c2818fad-4ffc-4016-bf2c-0d538f7192dc",
   "metadata": {},
   "outputs": [
    {
     "data": {
      "text/plain": [
       "'enr'"
      ]
     },
     "execution_count": 18,
     "metadata": {},
     "output_type": "execute_result"
    }
   ],
   "source": [
    "a[::-2]"
   ]
  },
  {
   "cell_type": "code",
   "execution_count": 19,
   "id": "15e4e78d-7d79-4c76-9943-d28bfd0cb095",
   "metadata": {},
   "outputs": [
    {
     "data": {
      "text/plain": [
       "''"
      ]
     },
     "execution_count": 19,
     "metadata": {},
     "output_type": "execute_result"
    }
   ],
   "source": [
    "a[2:6:-1]"
   ]
  },
  {
   "cell_type": "code",
   "execution_count": 20,
   "id": "3c2af13e-0bbe-4255-b0c3-bf5a24514503",
   "metadata": {},
   "outputs": [
    {
     "data": {
      "text/plain": [
       "''"
      ]
     },
     "execution_count": 20,
     "metadata": {},
     "output_type": "execute_result"
    }
   ],
   "source": [
    "a[6:0]"
   ]
  },
  {
   "cell_type": "code",
   "execution_count": 21,
   "id": "c5dd1e60-35a5-4920-9a62-d544cb469fda",
   "metadata": {},
   "outputs": [
    {
     "data": {
      "text/plain": [
       "'ecnir'"
      ]
     },
     "execution_count": 21,
     "metadata": {},
     "output_type": "execute_result"
    }
   ],
   "source": [
    "a[6:0:-1]"
   ]
  },
  {
   "cell_type": "code",
   "execution_count": 22,
   "id": "d24b0ccc-d247-41b4-ad6b-a255de848065",
   "metadata": {},
   "outputs": [
    {
     "data": {
      "text/plain": [
       "''"
      ]
     },
     "execution_count": 22,
     "metadata": {},
     "output_type": "execute_result"
    }
   ],
   "source": [
    "a[-2:-8:1]"
   ]
  },
  {
   "cell_type": "code",
   "execution_count": 23,
   "id": "f3375d96-b3c3-4688-946c-c7ca42390cfe",
   "metadata": {},
   "outputs": [
    {
     "data": {
      "text/plain": [
       "'cnirp'"
      ]
     },
     "execution_count": 23,
     "metadata": {},
     "output_type": "execute_result"
    }
   ],
   "source": [
    "a[-2:-8:-1]"
   ]
  },
  {
   "cell_type": "code",
   "execution_count": 24,
   "id": "bd9da04b-6727-497c-805a-053d8c412afc",
   "metadata": {},
   "outputs": [
    {
     "data": {
      "text/plain": [
       "'ecnirp'"
      ]
     },
     "execution_count": 24,
     "metadata": {},
     "output_type": "execute_result"
    }
   ],
   "source": [
    "a[::-1]"
   ]
  },
  {
   "cell_type": "code",
   "execution_count": 25,
   "id": "289ea1c3-460e-4739-8632-c3d0d74071b5",
   "metadata": {},
   "outputs": [
    {
     "data": {
      "text/plain": [
       "'prince'"
      ]
     },
     "execution_count": 25,
     "metadata": {},
     "output_type": "execute_result"
    }
   ],
   "source": [
    "a[::]"
   ]
  },
  {
   "cell_type": "code",
   "execution_count": 27,
   "id": "626236c8-ae16-492e-9e77-4bd97815e75f",
   "metadata": {},
   "outputs": [
    {
     "data": {
      "text/plain": [
       "'ecnirp'"
      ]
     },
     "execution_count": 27,
     "metadata": {},
     "output_type": "execute_result"
    }
   ],
   "source": [
    "a[:-20:-1]\n",
    "#slicing"
   ]
  },
  {
   "cell_type": "code",
   "execution_count": 29,
   "id": "b1c739fa-c96b-495d-aa42-8240bb0501af",
   "metadata": {},
   "outputs": [
    {
     "ename": "IndexError",
     "evalue": "string index out of range",
     "output_type": "error",
     "traceback": [
      "\u001b[0;31m---------------------------------------------------------------------------\u001b[0m",
      "\u001b[0;31mIndexError\u001b[0m                                Traceback (most recent call last)",
      "Cell \u001b[0;32mIn[29], line 1\u001b[0m\n\u001b[0;32m----> 1\u001b[0m \u001b[43ma\u001b[49m\u001b[43m[\u001b[49m\u001b[38;5;241;43m20\u001b[39;49m\u001b[43m]\u001b[49m\n\u001b[1;32m      2\u001b[0m \u001b[38;5;66;03m#indexing\u001b[39;00m\n",
      "\u001b[0;31mIndexError\u001b[0m: string index out of range"
     ]
    }
   ],
   "source": [
    "a[20]\n",
    "#indexing"
   ]
  },
  {
   "cell_type": "code",
   "execution_count": 30,
   "id": "1bff037e-778e-4f4a-9f63-e94b77037e7a",
   "metadata": {},
   "outputs": [],
   "source": [
    "b=200"
   ]
  },
  {
   "cell_type": "code",
   "execution_count": 31,
   "id": "b3bde60d-5ad0-43a8-bf34-a2d4d34cb48e",
   "metadata": {},
   "outputs": [],
   "source": [
    "s1=\"this is my string class\""
   ]
  },
  {
   "cell_type": "code",
   "execution_count": 32,
   "id": "646fb365-8138-48b4-bd26-4ce6462eaeed",
   "metadata": {},
   "outputs": [
    {
     "data": {
      "text/plain": [
       "23"
      ]
     },
     "execution_count": 32,
     "metadata": {},
     "output_type": "execute_result"
    }
   ],
   "source": [
    "len(s1)"
   ]
  },
  {
   "cell_type": "code",
   "execution_count": 33,
   "id": "f1aa3684-43b6-4595-a79a-782f5debc176",
   "metadata": {},
   "outputs": [
    {
     "data": {
      "text/plain": [
       "20"
      ]
     },
     "execution_count": 33,
     "metadata": {},
     "output_type": "execute_result"
    }
   ],
   "source": [
    "s1.find('a')"
   ]
  },
  {
   "cell_type": "code",
   "execution_count": 34,
   "id": "5a89dc2a-f0a4-47ae-895d-eac9b415f8c5",
   "metadata": {},
   "outputs": [
    {
     "data": {
      "text/plain": [
       "2"
      ]
     },
     "execution_count": 34,
     "metadata": {},
     "output_type": "execute_result"
    }
   ],
   "source": [
    "s1.find('i')"
   ]
  },
  {
   "cell_type": "code",
   "execution_count": 35,
   "id": "91d9134e-0fa2-4024-bb44-ee66035a25c5",
   "metadata": {},
   "outputs": [
    {
     "data": {
      "text/plain": [
       "3"
      ]
     },
     "execution_count": 35,
     "metadata": {},
     "output_type": "execute_result"
    }
   ],
   "source": [
    "s1.count('i')"
   ]
  },
  {
   "cell_type": "code",
   "execution_count": 36,
   "id": "cbebe5e7-6c1c-4a3c-91fd-b032aab2c6d5",
   "metadata": {},
   "outputs": [
    {
     "data": {
      "text/plain": [
       "0"
      ]
     },
     "execution_count": 36,
     "metadata": {},
     "output_type": "execute_result"
    }
   ],
   "source": [
    "s1.count('x')"
   ]
  },
  {
   "cell_type": "code",
   "execution_count": 38,
   "id": "c1f86be6-2be9-4dd3-b24b-851ead6865ca",
   "metadata": {},
   "outputs": [
    {
     "data": {
      "text/plain": [
       "'this is my string class'"
      ]
     },
     "execution_count": 38,
     "metadata": {},
     "output_type": "execute_result"
    }
   ],
   "source": [
    "s1"
   ]
  },
  {
   "cell_type": "code",
   "execution_count": 39,
   "id": "aa6c9939-7ddb-4ca1-929e-2478f3a828f0",
   "metadata": {},
   "outputs": [
    {
     "data": {
      "text/plain": [
       "'THIS IS MY STRING CLASS'"
      ]
     },
     "execution_count": 39,
     "metadata": {},
     "output_type": "execute_result"
    }
   ],
   "source": [
    "s1.upper()"
   ]
  },
  {
   "cell_type": "code",
   "execution_count": 41,
   "id": "d9a599d9-3e5d-4b87-b266-22b28d7abf56",
   "metadata": {},
   "outputs": [],
   "source": [
    "s2='THIS IS MY STRING CLASS'"
   ]
  },
  {
   "cell_type": "code",
   "execution_count": 42,
   "id": "370ac8d8-7298-4e69-b241-69fc011b39c9",
   "metadata": {},
   "outputs": [
    {
     "data": {
      "text/plain": [
       "'this is my string class'"
      ]
     },
     "execution_count": 42,
     "metadata": {},
     "output_type": "execute_result"
    }
   ],
   "source": [
    "s2.lower()"
   ]
  },
  {
   "cell_type": "code",
   "execution_count": 43,
   "id": "bce1de67-0453-4fda-9365-2adbd871e3d4",
   "metadata": {},
   "outputs": [
    {
     "data": {
      "text/plain": [
       "'This Is My String Class'"
      ]
     },
     "execution_count": 43,
     "metadata": {},
     "output_type": "execute_result"
    }
   ],
   "source": [
    "s1.title()"
   ]
  },
  {
   "cell_type": "code",
   "execution_count": 44,
   "id": "d39c251c-9ecb-44c4-8991-ca0342650884",
   "metadata": {},
   "outputs": [
    {
     "data": {
      "text/plain": [
       "'This is my string class'"
      ]
     },
     "execution_count": 44,
     "metadata": {},
     "output_type": "execute_result"
    }
   ],
   "source": [
    "s1.capitalize()"
   ]
  },
  {
   "cell_type": "code",
   "execution_count": 45,
   "id": "258f22de-d750-4e8f-8d17-c1210d61e447",
   "metadata": {},
   "outputs": [
    {
     "data": {
      "text/plain": [
       "'prince'"
      ]
     },
     "execution_count": 45,
     "metadata": {},
     "output_type": "execute_result"
    }
   ],
   "source": [
    "a"
   ]
  },
  {
   "cell_type": "code",
   "execution_count": 46,
   "id": "6790affb-8834-40c7-8630-dc15a2bb9489",
   "metadata": {},
   "outputs": [
    {
     "ename": "TypeError",
     "evalue": "can only concatenate str (not \"int\") to str",
     "output_type": "error",
     "traceback": [
      "\u001b[0;31m---------------------------------------------------------------------------\u001b[0m",
      "\u001b[0;31mTypeError\u001b[0m                                 Traceback (most recent call last)",
      "Cell \u001b[0;32mIn[46], line 1\u001b[0m\n\u001b[0;32m----> 1\u001b[0m \u001b[43ma\u001b[49m\u001b[38;5;241;43m+\u001b[39;49m\u001b[38;5;241;43m1\u001b[39;49m\n",
      "\u001b[0;31mTypeError\u001b[0m: can only concatenate str (not \"int\") to str"
     ]
    }
   ],
   "source": [
    "a+1"
   ]
  },
  {
   "cell_type": "code",
   "execution_count": 52,
   "id": "e8abf3b9-b7b5-40c3-baf7-90147febd8b4",
   "metadata": {},
   "outputs": [
    {
     "data": {
      "text/plain": [
       "'string+string not \\none string and one int'"
      ]
     },
     "execution_count": 52,
     "metadata": {},
     "output_type": "execute_result"
    }
   ],
   "source": [
    "a + s1\n",
    "\"\"\"string+string not \n",
    "one string and one int\"\"\""
   ]
  },
  {
   "cell_type": "code",
   "execution_count": 53,
   "id": "47b3dfc3-9220-4048-982d-39f46d280a49",
   "metadata": {},
   "outputs": [
    {
     "data": {
      "text/plain": [
       "'prince'"
      ]
     },
     "execution_count": 53,
     "metadata": {},
     "output_type": "execute_result"
    }
   ],
   "source": [
    "a"
   ]
  },
  {
   "cell_type": "code",
   "execution_count": 54,
   "id": "c7382385-6e97-47b4-8bb5-ab8798323037",
   "metadata": {},
   "outputs": [
    {
     "data": {
      "text/plain": [
       "'princeprinceprince'"
      ]
     },
     "execution_count": 54,
     "metadata": {},
     "output_type": "execute_result"
    }
   ],
   "source": [
    "a*3"
   ]
  },
  {
   "cell_type": "code",
   "execution_count": 55,
   "id": "86c6b8c0-cdce-48e5-8184-31ada6abe27f",
   "metadata": {},
   "outputs": [
    {
     "ename": "TypeError",
     "evalue": "unsupported operand type(s) for ** or pow(): 'str' and 'int'",
     "output_type": "error",
     "traceback": [
      "\u001b[0;31m---------------------------------------------------------------------------\u001b[0m",
      "\u001b[0;31mTypeError\u001b[0m                                 Traceback (most recent call last)",
      "Cell \u001b[0;32mIn[55], line 1\u001b[0m\n\u001b[0;32m----> 1\u001b[0m \u001b[43ma\u001b[49m\u001b[38;5;241;43m*\u001b[39;49m\u001b[38;5;241;43m*\u001b[39;49m\u001b[38;5;241;43m2\u001b[39;49m\n",
      "\u001b[0;31mTypeError\u001b[0m: unsupported operand type(s) for ** or pow(): 'str' and 'int'"
     ]
    }
   ],
   "source": [
    "a**2"
   ]
  },
  {
   "cell_type": "code",
   "execution_count": 56,
   "id": "8d709524-955e-47d5-a887-20b589356c4b",
   "metadata": {},
   "outputs": [
    {
     "ename": "SyntaxError",
     "evalue": "invalid syntax (1007642938.py, line 1)",
     "output_type": "error",
     "traceback": [
      "\u001b[0;36m  Cell \u001b[0;32mIn[56], line 1\u001b[0;36m\u001b[0m\n\u001b[0;31m    'don't do copy in my class\u001b[0m\n\u001b[0m         ^\u001b[0m\n\u001b[0;31mSyntaxError\u001b[0m\u001b[0;31m:\u001b[0m invalid syntax\n"
     ]
    }
   ],
   "source": [
    "'don't do copy in my class"
   ]
  },
  {
   "cell_type": "code",
   "execution_count": 57,
   "id": "889e5832-86ee-4107-9432-5ed9c3d12b00",
   "metadata": {},
   "outputs": [
    {
     "data": {
      "text/plain": [
       "\"don't do copy in my class\""
      ]
     },
     "execution_count": 57,
     "metadata": {},
     "output_type": "execute_result"
    }
   ],
   "source": [
    "\"don't do copy in my class\""
   ]
  },
  {
   "cell_type": "code",
   "execution_count": 5,
   "id": "59a4b1fa-45a9-44f6-89ed-540976d34fef",
   "metadata": {},
   "outputs": [],
   "source": [
    "#Ctrl+/\n",
    "# hfdiujdhgfiu\n",
    "# ,.l;ekvel\n",
    "# edv;l,kfp;gvkerpo\n",
    "# s'dkfoeiwfjm\n",
    "# flefgrevm\n",
    "# vljnkrfvij"
   ]
  },
  {
   "cell_type": "code",
   "execution_count": 9,
   "id": "b4287e3a-aff0-4e74-9f14-4779984935e5",
   "metadata": {},
   "outputs": [
    {
     "data": {
      "text/plain": [
       "'Primitive and non primitive data store'"
      ]
     },
     "execution_count": 9,
     "metadata": {},
     "output_type": "execute_result"
    }
   ],
   "source": [
    "i=[1,2,15,13.2,2+6,True,\"prince\"]\n",
    "#List example\n",
    "'''Primitive and non primitive data store'''"
   ]
  },
  {
   "cell_type": "code",
   "execution_count": 3,
   "id": "e601b277-75a2-442b-b2ff-7a8f607ee1c3",
   "metadata": {},
   "outputs": [
    {
     "data": {
      "text/plain": [
       "tuple"
      ]
     },
     "execution_count": 3,
     "metadata": {},
     "output_type": "execute_result"
    }
   ],
   "source": [
    "type(i)"
   ]
  },
  {
   "cell_type": "code",
   "execution_count": 6,
   "id": "52ec5759-def1-4ceb-8877-25487d50d431",
   "metadata": {},
   "outputs": [
    {
     "data": {
      "text/plain": [
       "8"
      ]
     },
     "execution_count": 6,
     "metadata": {},
     "output_type": "execute_result"
    }
   ],
   "source": [
    "i[4]"
   ]
  },
  {
   "cell_type": "code",
   "execution_count": 7,
   "id": "a9a5355f-606f-4293-9432-59d6a8954584",
   "metadata": {},
   "outputs": [
    {
     "ename": "IndexError",
     "evalue": "list index out of range",
     "output_type": "error",
     "traceback": [
      "\u001b[0;31m---------------------------------------------------------------------------\u001b[0m",
      "\u001b[0;31mIndexError\u001b[0m                                Traceback (most recent call last)",
      "Cell \u001b[0;32mIn[7], line 1\u001b[0m\n\u001b[0;32m----> 1\u001b[0m \u001b[43mi\u001b[49m\u001b[43m[\u001b[49m\u001b[38;5;241;43m8\u001b[39;49m\u001b[43m]\u001b[49m\n",
      "\u001b[0;31mIndexError\u001b[0m: list index out of range"
     ]
    }
   ],
   "source": [
    "i[8]"
   ]
  },
  {
   "cell_type": "code",
   "execution_count": 8,
   "id": "08fb5458-1716-49d6-a038-92926166b153",
   "metadata": {},
   "outputs": [
    {
     "data": {
      "text/plain": [
       "'prince'"
      ]
     },
     "execution_count": 8,
     "metadata": {},
     "output_type": "execute_result"
    }
   ],
   "source": [
    "i[6]"
   ]
  },
  {
   "cell_type": "code",
   "execution_count": 10,
   "id": "0d991e36-df09-477e-9612-64761ac0b99f",
   "metadata": {},
   "outputs": [
    {
     "data": {
      "text/plain": [
       "[1, 2, 15, 13.2]"
      ]
     },
     "execution_count": 10,
     "metadata": {},
     "output_type": "execute_result"
    }
   ],
   "source": [
    "i[0:4]"
   ]
  },
  {
   "cell_type": "code",
   "execution_count": 11,
   "id": "bc1952b3-2aa6-475d-a51b-72d41ef0410b",
   "metadata": {},
   "outputs": [
    {
     "data": {
      "text/plain": [
       "'prince'"
      ]
     },
     "execution_count": 11,
     "metadata": {},
     "output_type": "execute_result"
    }
   ],
   "source": [
    "i[-1]"
   ]
  },
  {
   "cell_type": "code",
   "execution_count": 14,
   "id": "9d1b4274-aa12-423d-b35c-b9cec09915e5",
   "metadata": {},
   "outputs": [
    {
     "data": {
      "text/plain": [
       "['prince', True, 8, 13.2, 15, 2, 1]"
      ]
     },
     "execution_count": 14,
     "metadata": {},
     "output_type": "execute_result"
    }
   ],
   "source": [
    "i[::-1]\n",
    "#reverce"
   ]
  },
  {
   "cell_type": "code",
   "execution_count": 16,
   "id": "7af23349-348c-4ee2-8ed1-236daa31632f",
   "metadata": {},
   "outputs": [
    {
     "data": {
      "text/plain": [
       "[1, 15, 8, 'prince']"
      ]
     },
     "execution_count": 16,
     "metadata": {},
     "output_type": "execute_result"
    }
   ],
   "source": [
    "i[::2]\n",
    "#jump even number"
   ]
  },
  {
   "cell_type": "code",
   "execution_count": 17,
   "id": "f4b3e757-bb8a-45d3-9d99-9d71a3fcedf1",
   "metadata": {},
   "outputs": [],
   "source": [
    "s=\"prince\""
   ]
  },
  {
   "cell_type": "code",
   "execution_count": 19,
   "id": "0600a22f-f3c2-45c3-811c-3db7c8134a3f",
   "metadata": {},
   "outputs": [
    {
     "ename": "TypeError",
     "evalue": "can only concatenate list (not \"str\") to list",
     "output_type": "error",
     "traceback": [
      "\u001b[0;31m---------------------------------------------------------------------------\u001b[0m",
      "\u001b[0;31mTypeError\u001b[0m                                 Traceback (most recent call last)",
      "Cell \u001b[0;32mIn[19], line 1\u001b[0m\n\u001b[0;32m----> 1\u001b[0m \u001b[43mi\u001b[49m\u001b[38;5;241;43m+\u001b[39;49m\u001b[43ms\u001b[49m\n\u001b[1;32m      2\u001b[0m \u001b[38;5;124;03m\"\"\"different type of data not add\"\"\"\u001b[39;00m\n",
      "\u001b[0;31mTypeError\u001b[0m: can only concatenate list (not \"str\") to list"
     ]
    }
   ],
   "source": [
    "i+s\n",
    "\"\"\"different type of data not add\"\"\""
   ]
  },
  {
   "cell_type": "code",
   "execution_count": 21,
   "id": "06ae4b36-9871-4a6d-bcf6-1f389b8056a4",
   "metadata": {},
   "outputs": [
    {
     "data": {
      "text/plain": [
       "['p', 'r', 'i', 'n', 'c', 'e', 1, 2, 15, 13.2, 8, True, 'prince']"
      ]
     },
     "execution_count": 21,
     "metadata": {},
     "output_type": "execute_result"
    }
   ],
   "source": [
    "list(s)+i"
   ]
  },
  {
   "cell_type": "code",
   "execution_count": 28,
   "id": "cc580c50-cbb9-4a03-87f7-4584ad25abdc",
   "metadata": {},
   "outputs": [
    {
     "data": {
      "text/plain": [
       "[1, 2, 15, 13.2, 8, True, 'prince']"
      ]
     },
     "execution_count": 28,
     "metadata": {},
     "output_type": "execute_result"
    }
   ],
   "source": [
    "i"
   ]
  },
  {
   "cell_type": "code",
   "execution_count": 29,
   "id": "ac922781-e1a9-4707-bac7-8a9903293701",
   "metadata": {},
   "outputs": [
    {
     "ename": "TypeError",
     "evalue": "can only concatenate list (not \"int\") to list",
     "output_type": "error",
     "traceback": [
      "\u001b[0;31m---------------------------------------------------------------------------\u001b[0m",
      "\u001b[0;31mTypeError\u001b[0m                                 Traceback (most recent call last)",
      "Cell \u001b[0;32mIn[29], line 1\u001b[0m\n\u001b[0;32m----> 1\u001b[0m \u001b[43mi\u001b[49m\u001b[38;5;241;43m+\u001b[39;49m\u001b[38;5;241;43m5\u001b[39;49m\n",
      "\u001b[0;31mTypeError\u001b[0m: can only concatenate list (not \"int\") to list"
     ]
    }
   ],
   "source": [
    "i+5"
   ]
  },
  {
   "cell_type": "code",
   "execution_count": 24,
   "id": "70006893-0f7f-4d0c-b216-cc0a0c2d3231",
   "metadata": {},
   "outputs": [],
   "source": [
    "i1=[5,6,9,5]"
   ]
  },
  {
   "cell_type": "code",
   "execution_count": 25,
   "id": "29366125-c751-41f0-96bd-b501f477ad81",
   "metadata": {},
   "outputs": [
    {
     "data": {
      "text/plain": [
       "[1, 2, 15, 13.2, 8, True, 'prince', 5, 6, 9, 5]"
      ]
     },
     "execution_count": 25,
     "metadata": {},
     "output_type": "execute_result"
    }
   ],
   "source": [
    "i+i1"
   ]
  },
  {
   "cell_type": "code",
   "execution_count": 26,
   "id": "a88259a7-0704-4e7d-904a-6d9016ff656a",
   "metadata": {},
   "outputs": [
    {
     "data": {
      "text/plain": [
       "[1, 2, 15, 13.2, 8, True, 'prince', 1, 2, 15, 13.2, 8, True, 'prince']"
      ]
     },
     "execution_count": 26,
     "metadata": {},
     "output_type": "execute_result"
    }
   ],
   "source": [
    "i*2"
   ]
  },
  {
   "cell_type": "code",
   "execution_count": 30,
   "id": "5fa85797-f214-452c-8ea4-a650f2c3a5d1",
   "metadata": {},
   "outputs": [
    {
     "data": {
      "text/plain": [
       "[1, 2, 15, 13.2, 8, True, 'prince']"
      ]
     },
     "execution_count": 30,
     "metadata": {},
     "output_type": "execute_result"
    }
   ],
   "source": [
    "i"
   ]
  },
  {
   "cell_type": "code",
   "execution_count": 31,
   "id": "50398e7b-da6e-47c3-aed0-73445f3155c7",
   "metadata": {},
   "outputs": [
    {
     "data": {
      "text/plain": [
       "[1, 15, 8, 'prince']"
      ]
     },
     "execution_count": 31,
     "metadata": {},
     "output_type": "execute_result"
    }
   ],
   "source": [
    "i[::2]"
   ]
  },
  {
   "cell_type": "code",
   "execution_count": 33,
   "id": "dad819e1-f6d6-40e8-ba42-ab82ac2ed6bd",
   "metadata": {},
   "outputs": [
    {
     "data": {
      "text/plain": [
       "[]"
      ]
     },
     "execution_count": 33,
     "metadata": {},
     "output_type": "execute_result"
    }
   ],
   "source": [
    "i[-1:2:1]"
   ]
  },
  {
   "cell_type": "code",
   "execution_count": 34,
   "id": "6644ad40-6e4e-460b-9ba1-dbf066381f23",
   "metadata": {},
   "outputs": [
    {
     "data": {
      "text/plain": [
       "[1, 2, 15, 13.2, 8, True, 'prince']"
      ]
     },
     "execution_count": 34,
     "metadata": {},
     "output_type": "execute_result"
    }
   ],
   "source": [
    "i"
   ]
  },
  {
   "cell_type": "code",
   "execution_count": 35,
   "id": "f1f5db24-7341-4b81-84d5-9e411e9cbc4c",
   "metadata": {},
   "outputs": [
    {
     "data": {
      "text/plain": [
       "7"
      ]
     },
     "execution_count": 35,
     "metadata": {},
     "output_type": "execute_result"
    }
   ],
   "source": [
    "len(i)"
   ]
  },
  {
   "cell_type": "code",
   "execution_count": 36,
   "id": "aa357ed1-bfb9-437c-b2cc-662f4f295dd7",
   "metadata": {},
   "outputs": [],
   "source": [
    "i.append(5)"
   ]
  },
  {
   "cell_type": "code",
   "execution_count": 37,
   "id": "7bcec4f0-a024-4b07-a148-d7aedb5509f2",
   "metadata": {},
   "outputs": [
    {
     "data": {
      "text/plain": [
       "[1, 2, 15, 13.2, 8, True, 'prince', 5]"
      ]
     },
     "execution_count": 37,
     "metadata": {},
     "output_type": "execute_result"
    }
   ],
   "source": [
    "i"
   ]
  },
  {
   "cell_type": "code",
   "execution_count": 38,
   "id": "729b6a3c-96c2-470a-ad9b-8f40905529aa",
   "metadata": {},
   "outputs": [
    {
     "data": {
      "text/plain": [
       "[5, 6, 9, 5]"
      ]
     },
     "execution_count": 38,
     "metadata": {},
     "output_type": "execute_result"
    }
   ],
   "source": [
    "i1"
   ]
  },
  {
   "cell_type": "code",
   "execution_count": 39,
   "id": "54871686-fce1-44fc-b443-64b9ec8f4d52",
   "metadata": {},
   "outputs": [],
   "source": [
    "i.append(i1)"
   ]
  },
  {
   "cell_type": "code",
   "execution_count": 40,
   "id": "870bbef2-38f2-4d7e-b580-78b7feb54ca1",
   "metadata": {},
   "outputs": [
    {
     "data": {
      "text/plain": [
       "[1, 2, 15, 13.2, 8, True, 'prince', 5, [5, 6, 9, 5]]"
      ]
     },
     "execution_count": 40,
     "metadata": {},
     "output_type": "execute_result"
    }
   ],
   "source": [
    "i"
   ]
  },
  {
   "cell_type": "code",
   "execution_count": 41,
   "id": "b0b3a205-6f7a-489e-a65b-f9a1ec24b344",
   "metadata": {},
   "outputs": [
    {
     "data": {
      "text/plain": [
       "[5, 6, 9, 5]"
      ]
     },
     "execution_count": 41,
     "metadata": {},
     "output_type": "execute_result"
    }
   ],
   "source": [
    "i[-1]"
   ]
  },
  {
   "cell_type": "code",
   "execution_count": 8,
   "id": "6743c62b-81d0-4737-969b-cddc5d4c0240",
   "metadata": {},
   "outputs": [
    {
     "ename": "NameError",
     "evalue": "name 'i' is not defined",
     "output_type": "error",
     "traceback": [
      "\u001b[0;31m---------------------------------------------------------------------------\u001b[0m",
      "\u001b[0;31mNameError\u001b[0m                                 Traceback (most recent call last)",
      "Cell \u001b[0;32mIn[8], line 1\u001b[0m\n\u001b[0;32m----> 1\u001b[0m \u001b[43mi\u001b[49m\u001b[38;5;241m.\u001b[39mextend(\u001b[38;5;124m\"\u001b[39m\u001b[38;5;124mraj\u001b[39m\u001b[38;5;124m\"\u001b[39m)\n",
      "\u001b[0;31mNameError\u001b[0m: name 'i' is not defined"
     ]
    }
   ],
   "source": [
    "i.extend(\"raj\")"
   ]
  },
  {
   "cell_type": "code",
   "execution_count": 9,
   "id": "e62250b4-e96b-4484-bc5b-f60459a67e2a",
   "metadata": {},
   "outputs": [],
   "source": [
    "a=[12,52,1,565,15.15,15.36,True,\"Prince\"]"
   ]
  },
  {
   "cell_type": "code",
   "execution_count": 10,
   "id": "8e4869d3-2c71-4775-8302-63763fb12a95",
   "metadata": {},
   "outputs": [
    {
     "name": "stdout",
     "output_type": "stream",
     "text": [
      "[12, 52, 1, 565, 15.15, 15.36, True, 'Prince']\n"
     ]
    }
   ],
   "source": [
    "print(a)"
   ]
  },
  {
   "cell_type": "code",
   "execution_count": 11,
   "id": "4f29c8f2-3ea3-46c6-975b-c551e26ca47a",
   "metadata": {},
   "outputs": [
    {
     "data": {
      "text/plain": [
       "[12, 52, 1, 565, 15.15, 15.36, True, 'Prince']"
      ]
     },
     "execution_count": 11,
     "metadata": {},
     "output_type": "execute_result"
    }
   ],
   "source": [
    "a"
   ]
  },
  {
   "cell_type": "code",
   "execution_count": 19,
   "id": "49df16c7-39b5-4c7b-a77c-431344fa55e9",
   "metadata": {},
   "outputs": [],
   "source": [
    "b=['raj']"
   ]
  },
  {
   "cell_type": "code",
   "execution_count": 20,
   "id": "6be4e0d5-8d37-41d9-b117-bd69eaca8ab0",
   "metadata": {},
   "outputs": [],
   "source": [
    "a.append(b)"
   ]
  },
  {
   "cell_type": "code",
   "execution_count": 21,
   "id": "a608e64c-7ff8-485c-9025-8b0df6303b13",
   "metadata": {},
   "outputs": [
    {
     "data": {
      "text/plain": [
       "[12, 52, 1, 565, 15.15, 15.36, True, 'Prince', 1, ['raj']]"
      ]
     },
     "execution_count": 21,
     "metadata": {},
     "output_type": "execute_result"
    }
   ],
   "source": [
    "a"
   ]
  },
  {
   "cell_type": "code",
   "execution_count": 25,
   "id": "cb7cd9e3-a785-488f-806f-f1d579af8091",
   "metadata": {},
   "outputs": [],
   "source": [
    "a.extend(\"kumar\")"
   ]
  },
  {
   "cell_type": "code",
   "execution_count": 24,
   "id": "08e876f9-6eca-4c10-9be3-5004a2a70fbd",
   "metadata": {},
   "outputs": [
    {
     "data": {
      "text/plain": [
       "[12,\n",
       " 52,\n",
       " 1,\n",
       " 565,\n",
       " 15.15,\n",
       " 15.36,\n",
       " True,\n",
       " 'Prince',\n",
       " 1,\n",
       " ['raj'],\n",
       " 'k',\n",
       " 'u',\n",
       " 'm',\n",
       " 'a',\n",
       " 'r']"
      ]
     },
     "execution_count": 24,
     "metadata": {},
     "output_type": "execute_result"
    }
   ],
   "source": [
    "a"
   ]
  },
  {
   "cell_type": "code",
   "execution_count": 26,
   "id": "c707713a-dc90-47ad-a806-0b7f7fe6974e",
   "metadata": {},
   "outputs": [],
   "source": [
    "a.extend([1,5,8,2,8])"
   ]
  },
  {
   "cell_type": "code",
   "execution_count": 27,
   "id": "b67b3c4f-d59b-40aa-9372-7ebc2e37857c",
   "metadata": {},
   "outputs": [
    {
     "data": {
      "text/plain": [
       "[12,\n",
       " 52,\n",
       " 1,\n",
       " 565,\n",
       " 15.15,\n",
       " 15.36,\n",
       " True,\n",
       " 'Prince',\n",
       " 1,\n",
       " ['raj'],\n",
       " 'k',\n",
       " 'u',\n",
       " 'm',\n",
       " 'a',\n",
       " 'r',\n",
       " 'k',\n",
       " 'u',\n",
       " 'm',\n",
       " 'a',\n",
       " 'r',\n",
       " 1,\n",
       " 5,\n",
       " 8,\n",
       " 2,\n",
       " 8]"
      ]
     },
     "execution_count": 27,
     "metadata": {},
     "output_type": "execute_result"
    }
   ],
   "source": [
    "a"
   ]
  },
  {
   "cell_type": "code",
   "execution_count": 29,
   "id": "3650abcd-4199-470e-9be8-aa618a52d862",
   "metadata": {},
   "outputs": [],
   "source": [
    "a1=[454,88,51,54,48]"
   ]
  },
  {
   "cell_type": "code",
   "execution_count": 37,
   "id": "5ee27599-d42f-4e61-8678-21375bb2e8dd",
   "metadata": {},
   "outputs": [],
   "source": [
    "a.insert(1,a1)"
   ]
  },
  {
   "cell_type": "code",
   "execution_count": 39,
   "id": "723a0db6-1788-435c-ba88-4b76334550ee",
   "metadata": {},
   "outputs": [
    {
     "data": {
      "text/plain": [
       "[12,\n",
       " [454, 'raju', [...], 88, 51, 54, 48],\n",
       " 'raju',\n",
       " 52,\n",
       " 1,\n",
       " 565,\n",
       " 15.15,\n",
       " 15.36,\n",
       " True,\n",
       " 'Prince',\n",
       " 1,\n",
       " ['raj'],\n",
       " 'k',\n",
       " 'u',\n",
       " 'm',\n",
       " 'a',\n",
       " 'r',\n",
       " 'k',\n",
       " 'u',\n",
       " 'm',\n",
       " 'a',\n",
       " 'r',\n",
       " 1,\n",
       " 5,\n",
       " 8,\n",
       " 2,\n",
       " 8]"
      ]
     },
     "execution_count": 39,
     "metadata": {},
     "output_type": "execute_result"
    }
   ],
   "source": [
    "a"
   ]
  },
  {
   "cell_type": "code",
   "execution_count": 43,
   "id": "e41451a9-f321-47bc-b243-9056de1b52de",
   "metadata": {},
   "outputs": [
    {
     "data": {
      "text/plain": [
       "[12,\n",
       " [454, 'raju', [...], 88, 51, 54, 48],\n",
       " 'raju',\n",
       " 52,\n",
       " 1,\n",
       " 565,\n",
       " 15.15,\n",
       " 15.36,\n",
       " True,\n",
       " 'Prince',\n",
       " 1,\n",
       " ['raj'],\n",
       " 'k',\n",
       " 'u',\n",
       " 'm',\n",
       " 'a',\n",
       " 'r',\n",
       " 'k',\n",
       " 'u',\n",
       " 'm',\n",
       " 'a',\n",
       " 'r',\n",
       " 1,\n",
       " 5,\n",
       " 8,\n",
       " 2,\n",
       " 8]"
      ]
     },
     "execution_count": 43,
     "metadata": {},
     "output_type": "execute_result"
    }
   ],
   "source": [
    "a"
   ]
  },
  {
   "cell_type": "code",
   "execution_count": 44,
   "id": "622214c6-753d-4e64-b6bb-e2cfd5a461d3",
   "metadata": {},
   "outputs": [],
   "source": [
    "a.insert(-1,8929987894)"
   ]
  },
  {
   "cell_type": "code",
   "execution_count": 45,
   "id": "af069c2d-5efc-40cc-aa19-5e75c2fa5759",
   "metadata": {},
   "outputs": [
    {
     "data": {
      "text/plain": [
       "[12,\n",
       " [454, 'raju', [...], 88, 51, 54, 48],\n",
       " 'raju',\n",
       " 52,\n",
       " 1,\n",
       " 565,\n",
       " 15.15,\n",
       " 15.36,\n",
       " True,\n",
       " 'Prince',\n",
       " 1,\n",
       " ['raj'],\n",
       " 'k',\n",
       " 'u',\n",
       " 'm',\n",
       " 'a',\n",
       " 'r',\n",
       " 'k',\n",
       " 'u',\n",
       " 'm',\n",
       " 'a',\n",
       " 'r',\n",
       " 1,\n",
       " 5,\n",
       " 8,\n",
       " 2,\n",
       " 8929987894,\n",
       " 8]"
      ]
     },
     "execution_count": 45,
     "metadata": {},
     "output_type": "execute_result"
    }
   ],
   "source": [
    "a"
   ]
  },
  {
   "cell_type": "code",
   "execution_count": 2,
   "id": "213078fd-6fbe-40ec-a5d2-841bfcaf4e9a",
   "metadata": {},
   "outputs": [],
   "source": [
    "b=[12,5,69,65,32,235.23,\"Prince\"]"
   ]
  },
  {
   "cell_type": "code",
   "execution_count": 3,
   "id": "96d04d87-4d89-4394-9dd6-75afe1447458",
   "metadata": {},
   "outputs": [
    {
     "data": {
      "text/plain": [
       "[12, 5, 69, 65, 32, 235.23, 'Prince']"
      ]
     },
     "execution_count": 3,
     "metadata": {},
     "output_type": "execute_result"
    }
   ],
   "source": [
    "b"
   ]
  },
  {
   "cell_type": "code",
   "execution_count": 4,
   "id": "03cc13be-e055-4ad5-8d4f-191dfff4dcd1",
   "metadata": {},
   "outputs": [
    {
     "data": {
      "text/plain": [
       "'Prince'"
      ]
     },
     "execution_count": 4,
     "metadata": {},
     "output_type": "execute_result"
    }
   ],
   "source": [
    "b.pop()"
   ]
  },
  {
   "cell_type": "code",
   "execution_count": 5,
   "id": "2ef8c578-ed33-4a02-831e-81f8155a0181",
   "metadata": {},
   "outputs": [
    {
     "data": {
      "text/plain": [
       "[12, 5, 69, 65, 32, 235.23]"
      ]
     },
     "execution_count": 5,
     "metadata": {},
     "output_type": "execute_result"
    }
   ],
   "source": [
    "b"
   ]
  },
  {
   "cell_type": "code",
   "execution_count": 7,
   "id": "c641a60c-e6ac-4d4f-b025-2ab4e433ab9f",
   "metadata": {},
   "outputs": [
    {
     "data": {
      "text/plain": [
       "65"
      ]
     },
     "execution_count": 7,
     "metadata": {},
     "output_type": "execute_result"
    }
   ],
   "source": [
    "b.pop(3)"
   ]
  },
  {
   "cell_type": "code",
   "execution_count": 9,
   "id": "4f948a4f-6624-45f2-99ca-617bb710db6b",
   "metadata": {},
   "outputs": [
    {
     "data": {
      "text/plain": [
       "[12, 5, 69, 32, 235.23]"
      ]
     },
     "execution_count": 9,
     "metadata": {},
     "output_type": "execute_result"
    }
   ],
   "source": [
    "b"
   ]
  },
  {
   "cell_type": "code",
   "execution_count": 11,
   "id": "5d59d547-015a-488c-809a-f3afed1e0ebf",
   "metadata": {},
   "outputs": [],
   "source": [
    "b.remove(235.23)"
   ]
  },
  {
   "cell_type": "code",
   "execution_count": 12,
   "id": "2fc40ef4-c8bd-4a00-8009-4e56a40651d9",
   "metadata": {},
   "outputs": [
    {
     "data": {
      "text/plain": [
       "[12, 5, 69, 32]"
      ]
     },
     "execution_count": 12,
     "metadata": {},
     "output_type": "execute_result"
    }
   ],
   "source": [
    "b"
   ]
  },
  {
   "cell_type": "code",
   "execution_count": 15,
   "id": "ac34f112-b8b2-4515-bf54-484b9b37a39e",
   "metadata": {},
   "outputs": [],
   "source": [
    "c=[\"Prince\",33,44]"
   ]
  },
  {
   "cell_type": "code",
   "execution_count": 21,
   "id": "6a723abd-b07d-472f-9ae6-3c7e8338b507",
   "metadata": {},
   "outputs": [
    {
     "data": {
      "text/plain": [
       "[12, 5, 69, 32, 'Prince', 33, 44]"
      ]
     },
     "execution_count": 21,
     "metadata": {},
     "output_type": "execute_result"
    }
   ],
   "source": [
    "b+c"
   ]
  },
  {
   "cell_type": "code",
   "execution_count": 24,
   "id": "b35704d7-56c4-4dad-9980-a05448842b4e",
   "metadata": {},
   "outputs": [
    {
     "ename": "ValueError",
     "evalue": "list.remove(x): x not in list",
     "output_type": "error",
     "traceback": [
      "\u001b[0;31m---------------------------------------------------------------------------\u001b[0m",
      "\u001b[0;31mValueError\u001b[0m                                Traceback (most recent call last)",
      "Cell \u001b[0;32mIn[24], line 1\u001b[0m\n\u001b[0;32m----> 1\u001b[0m b\u001b[38;5;241m+\u001b[39m\u001b[43mc\u001b[49m\u001b[38;5;241;43m.\u001b[39;49m\u001b[43mremove\u001b[49m\u001b[43m(\u001b[49m\u001b[38;5;124;43m\"\u001b[39;49m\u001b[38;5;124;43mPrince\u001b[39;49m\u001b[38;5;124;43m\"\u001b[39;49m\u001b[43m)\u001b[49m\n\u001b[1;32m      2\u001b[0m \u001b[38;5;66;03m#string value not remove\u001b[39;00m\n",
      "\u001b[0;31mValueError\u001b[0m: list.remove(x): x not in list"
     ]
    }
   ],
   "source": [
    "b+c.remove(\"Prince\")\n",
    "#string value not remove"
   ]
  },
  {
   "cell_type": "code",
   "execution_count": 25,
   "id": "5183a22a-15e4-4bda-bb68-140589ea0514",
   "metadata": {},
   "outputs": [
    {
     "data": {
      "text/plain": [
       "[12, 5, 69, 32]"
      ]
     },
     "execution_count": 25,
     "metadata": {},
     "output_type": "execute_result"
    }
   ],
   "source": [
    "b"
   ]
  },
  {
   "cell_type": "code",
   "execution_count": 26,
   "id": "abfd8e8d-4c20-4b2e-8b90-eabebf1ee1b5",
   "metadata": {},
   "outputs": [],
   "source": [
    "b.append(5)"
   ]
  },
  {
   "cell_type": "code",
   "execution_count": 27,
   "id": "9a5419dd-9c6d-4472-9f4a-3d406e3ee799",
   "metadata": {},
   "outputs": [
    {
     "data": {
      "text/plain": [
       "[12, 5, 69, 32, 5]"
      ]
     },
     "execution_count": 27,
     "metadata": {},
     "output_type": "execute_result"
    }
   ],
   "source": [
    "b"
   ]
  },
  {
   "cell_type": "code",
   "execution_count": 28,
   "id": "d8a2b8b9-5cc1-4487-804a-174200214b78",
   "metadata": {},
   "outputs": [],
   "source": [
    "b.remove(5)"
   ]
  },
  {
   "cell_type": "code",
   "execution_count": 29,
   "id": "7e84b1f5-571a-4d16-84ff-6f8fcf00027b",
   "metadata": {},
   "outputs": [
    {
     "data": {
      "text/plain": [
       "[12, 69, 32, 5]"
      ]
     },
     "execution_count": 29,
     "metadata": {},
     "output_type": "execute_result"
    }
   ],
   "source": [
    "b"
   ]
  },
  {
   "cell_type": "code",
   "execution_count": 30,
   "id": "afe10a3a-571f-443a-a5fe-719205e8ebec",
   "metadata": {},
   "outputs": [
    {
     "data": {
      "text/plain": [
       "[5, 32, 69, 12]"
      ]
     },
     "execution_count": 30,
     "metadata": {},
     "output_type": "execute_result"
    }
   ],
   "source": [
    "b[::-1]"
   ]
  },
  {
   "cell_type": "code",
   "execution_count": 36,
   "id": "c08145d1-1477-49d2-858f-66fbd1a238dd",
   "metadata": {},
   "outputs": [],
   "source": [
    "b.reverse()\n",
    "#parmament reverse"
   ]
  },
  {
   "cell_type": "code",
   "execution_count": 37,
   "id": "49fe18dc-13dc-4a68-ab7b-1cacfd6d079d",
   "metadata": {},
   "outputs": [
    {
     "data": {
      "text/plain": [
       "[5, 32, 69, 12]"
      ]
     },
     "execution_count": 37,
     "metadata": {},
     "output_type": "execute_result"
    }
   ],
   "source": [
    "b"
   ]
  },
  {
   "cell_type": "code",
   "execution_count": 38,
   "id": "80ce3eca-38a4-4e90-ab9a-4b8892adc6b7",
   "metadata": {},
   "outputs": [],
   "source": [
    "b=b[::-1]"
   ]
  },
  {
   "cell_type": "code",
   "execution_count": 39,
   "id": "bd62cf9e-d1fc-409f-903d-f5fe18c4343b",
   "metadata": {},
   "outputs": [
    {
     "data": {
      "text/plain": [
       "[12, 69, 32, 5]"
      ]
     },
     "execution_count": 39,
     "metadata": {},
     "output_type": "execute_result"
    }
   ],
   "source": [
    "b"
   ]
  },
  {
   "cell_type": "code",
   "execution_count": null,
   "id": "93b291e1-bf6e-43ff-aae6-2c73f3881cc9",
   "metadata": {},
   "outputs": [],
   "source": [
    "b.sort()\n",
    "#assanding order \n",
    "#chota se bada sequence wise\n",
    "#string value ko short nahi karta hai"
   ]
  },
  {
   "cell_type": "code",
   "execution_count": 43,
   "id": "b376006b-4c91-498e-a03f-b8b57cb723ce",
   "metadata": {},
   "outputs": [
    {
     "data": {
      "text/plain": [
       "[5, 12, 32, 69]"
      ]
     },
     "execution_count": 43,
     "metadata": {},
     "output_type": "execute_result"
    }
   ],
   "source": [
    "b"
   ]
  },
  {
   "cell_type": "code",
   "execution_count": 67,
   "id": "84f723aa-4e4a-42e4-9f71-96a547df47dc",
   "metadata": {},
   "outputs": [],
   "source": [
    "b1=[\" 'kumar', 'raj' ,'hars' ,'askash', 'bipul,\"]"
   ]
  },
  {
   "cell_type": "code",
   "execution_count": 68,
   "id": "6edd31bf-af2a-4043-a4b6-fcbb9091a8a5",
   "metadata": {},
   "outputs": [],
   "source": [
    "b1.sort()"
   ]
  },
  {
   "cell_type": "code",
   "execution_count": 78,
   "id": "335aa153-3ed3-4579-9133-3b75de76d6bb",
   "metadata": {},
   "outputs": [
    {
     "data": {
      "text/plain": [
       "[\" 'kumar', 'raj' ,'hars' ,'askash', 'bipul,\"]"
      ]
     },
     "execution_count": 78,
     "metadata": {},
     "output_type": "execute_result"
    }
   ],
   "source": [
    "b1"
   ]
  },
  {
   "cell_type": "code",
   "execution_count": 80,
   "id": "24bd58f8-b117-4b4e-bdaf-a04bcd1afd06",
   "metadata": {},
   "outputs": [],
   "source": [
    "p=[\"Prince\",\"kumar\",\"akash\",\"asmit\"]"
   ]
  },
  {
   "cell_type": "code",
   "execution_count": 81,
   "id": "bb5eddbe-443f-4c0c-8c7d-7ea4cae97b7a",
   "metadata": {},
   "outputs": [
    {
     "data": {
      "text/plain": [
       "['Prince', 'kumar', 'akash', 'asmit']"
      ]
     },
     "execution_count": 81,
     "metadata": {},
     "output_type": "execute_result"
    }
   ],
   "source": [
    "p"
   ]
  },
  {
   "cell_type": "code",
   "execution_count": 82,
   "id": "49587e2d-cc7f-457c-8266-4933115ff540",
   "metadata": {},
   "outputs": [
    {
     "data": {
      "text/plain": [
       "0"
      ]
     },
     "execution_count": 82,
     "metadata": {},
     "output_type": "execute_result"
    }
   ],
   "source": [
    "p.index(\"Prince\")"
   ]
  },
  {
   "cell_type": "code",
   "execution_count": 86,
   "id": "a2d1f1ed-ceee-481e-8fd3-2eabf4c15fca",
   "metadata": {},
   "outputs": [
    {
     "data": {
      "text/plain": [
       "'kitana baar write\\nhoua hai o print karta hai'"
      ]
     },
     "execution_count": 86,
     "metadata": {},
     "output_type": "execute_result"
    }
   ],
   "source": [
    "p.count(\"Prince\")\n",
    "\n",
    "\"\"\"kitana baar write\n",
    "houa hai o print karta hai\"\"\""
   ]
  },
  {
   "cell_type": "code",
   "execution_count": 87,
   "id": "fa643ecf-302c-4de5-98d7-42f600c0180e",
   "metadata": {},
   "outputs": [
    {
     "data": {
      "text/plain": [
       "1"
      ]
     },
     "execution_count": 87,
     "metadata": {},
     "output_type": "execute_result"
    }
   ],
   "source": [
    "p.count(\"Prince\")"
   ]
  },
  {
   "cell_type": "code",
   "execution_count": 2,
   "id": "10da0587-6aa8-4674-829b-bd4472c044ed",
   "metadata": {},
   "outputs": [],
   "source": [
    "s=\"Raju\""
   ]
  },
  {
   "cell_type": "code",
   "execution_count": 3,
   "id": "5a3b69c3-6d20-465d-a734-038b490c5094",
   "metadata": {},
   "outputs": [
    {
     "data": {
      "text/plain": [
       "'Raju'"
      ]
     },
     "execution_count": 3,
     "metadata": {},
     "output_type": "execute_result"
    }
   ],
   "source": [
    "s"
   ]
  },
  {
   "cell_type": "code",
   "execution_count": 4,
   "id": "565348e2-8a95-4c26-932d-457766a810cd",
   "metadata": {},
   "outputs": [
    {
     "ename": "NameError",
     "evalue": "name 'p' is not defined",
     "output_type": "error",
     "traceback": [
      "\u001b[0;31m---------------------------------------------------------------------------\u001b[0m",
      "\u001b[0;31mNameError\u001b[0m                                 Traceback (most recent call last)",
      "Cell \u001b[0;32mIn[4], line 1\u001b[0m\n\u001b[0;32m----> 1\u001b[0m \u001b[43mp\u001b[49m\n",
      "\u001b[0;31mNameError\u001b[0m: name 'p' is not defined"
     ]
    }
   ],
   "source": [
    "p"
   ]
  },
  {
   "cell_type": "code",
   "execution_count": 5,
   "id": "380ae11e-573a-4c05-a82c-4d573c108589",
   "metadata": {},
   "outputs": [],
   "source": [
    "q=[\"Prince\",\"kumar\",\"akash\",\"asmit\"]"
   ]
  },
  {
   "cell_type": "code",
   "execution_count": 8,
   "id": "66b61e92-4634-41b8-8d16-9f6fbfd5b8b0",
   "metadata": {},
   "outputs": [],
   "source": [
    "q1=[4,5,1,45,4,5,14,1,4,1]"
   ]
  },
  {
   "cell_type": "code",
   "execution_count": 11,
   "id": "1644e37f-aff5-4f36-9398-71a1421faa79",
   "metadata": {},
   "outputs": [],
   "source": [
    "q1[5]=10"
   ]
  },
  {
   "cell_type": "code",
   "execution_count": 12,
   "id": "896240a9-4efc-48c7-bdb7-432c5702e33c",
   "metadata": {},
   "outputs": [
    {
     "data": {
      "text/plain": [
       "[4, 5, 1, 45, 10, 10, 14, 1, 4, 1]"
      ]
     },
     "execution_count": 12,
     "metadata": {},
     "output_type": "execute_result"
    }
   ],
   "source": [
    "q1"
   ]
  },
  {
   "cell_type": "code",
   "execution_count": 14,
   "id": "a68d430e-b277-4736-9463-20d3e85a7f49",
   "metadata": {},
   "outputs": [
    {
     "data": {
      "text/plain": [
       "['Prince', 'kumar', 'akash', 'asmit']"
      ]
     },
     "execution_count": 14,
     "metadata": {},
     "output_type": "execute_result"
    }
   ],
   "source": [
    "q"
   ]
  },
  {
   "cell_type": "code",
   "execution_count": 17,
   "id": "772da4f1-610b-457f-bba0-d3b5114f2b95",
   "metadata": {},
   "outputs": [
    {
     "ename": "AttributeError",
     "evalue": "'list' object has no attribute 'replace'",
     "output_type": "error",
     "traceback": [
      "\u001b[0;31m---------------------------------------------------------------------------\u001b[0m",
      "\u001b[0;31mAttributeError\u001b[0m                            Traceback (most recent call last)",
      "Cell \u001b[0;32mIn[17], line 1\u001b[0m\n\u001b[0;32m----> 1\u001b[0m \u001b[43mq\u001b[49m\u001b[38;5;241;43m.\u001b[39;49m\u001b[43mreplace\u001b[49m(\u001b[38;5;124m'\u001b[39m\u001b[38;5;124mP\u001b[39m\u001b[38;5;124m'\u001b[39m , \u001b[38;5;124m'\u001b[39m\u001b[38;5;124mK\u001b[39m\u001b[38;5;124m'\u001b[39m)\n",
      "\u001b[0;31mAttributeError\u001b[0m: 'list' object has no attribute 'replace'"
     ]
    }
   ],
   "source": [
    "q.replace('P' , 'K')"
   ]
  },
  {
   "cell_type": "code",
   "execution_count": 1,
   "id": "cc50f9fd-2d07-4fd9-a82b-39c238e33f68",
   "metadata": {},
   "outputs": [],
   "source": [
    "t = (5,6,9,4.22,\"Prince\",48+65j,[5,9,6])"
   ]
  },
  {
   "cell_type": "code",
   "execution_count": 2,
   "id": "9ee7b93c-e7e4-4950-b800-1d637fe1418c",
   "metadata": {},
   "outputs": [
    {
     "data": {
      "text/plain": [
       "(5, 6, 9, 4.22, 'Prince', (48+65j), [5, 9, 6])"
      ]
     },
     "execution_count": 2,
     "metadata": {},
     "output_type": "execute_result"
    }
   ],
   "source": [
    "t"
   ]
  },
  {
   "cell_type": "code",
   "execution_count": 3,
   "id": "31863af0-a743-4de6-b93d-cfe019237667",
   "metadata": {},
   "outputs": [
    {
     "data": {
      "text/plain": [
       "tuple"
      ]
     },
     "execution_count": 3,
     "metadata": {},
     "output_type": "execute_result"
    }
   ],
   "source": [
    "type(t)"
   ]
  },
  {
   "cell_type": "code",
   "execution_count": 4,
   "id": "8e3a4ee6-3d59-4ca0-a41c-e0c560689465",
   "metadata": {},
   "outputs": [
    {
     "data": {
      "text/plain": [
       "7"
      ]
     },
     "execution_count": 4,
     "metadata": {},
     "output_type": "execute_result"
    }
   ],
   "source": [
    "len(t)"
   ]
  },
  {
   "cell_type": "code",
   "execution_count": 5,
   "id": "3af17fb9-67c9-4993-8e22-ad97c4e0c415",
   "metadata": {},
   "outputs": [
    {
     "data": {
      "text/plain": [
       "6"
      ]
     },
     "execution_count": 5,
     "metadata": {},
     "output_type": "execute_result"
    }
   ],
   "source": [
    "t[1]"
   ]
  },
  {
   "cell_type": "code",
   "execution_count": 6,
   "id": "b2946b95-ae48-4c16-a960-b3389f89ee78",
   "metadata": {},
   "outputs": [
    {
     "data": {
      "text/plain": [
       "4.22"
      ]
     },
     "execution_count": 6,
     "metadata": {},
     "output_type": "execute_result"
    }
   ],
   "source": [
    "t[-4]"
   ]
  },
  {
   "cell_type": "code",
   "execution_count": 8,
   "id": "7d82232b-b4f1-4f77-a4c3-303d0fff4af9",
   "metadata": {},
   "outputs": [
    {
     "data": {
      "text/plain": [
       "([5, 9, 6], (48+65j), 'Prince', 4.22, 9, 6, 5)"
      ]
     },
     "execution_count": 8,
     "metadata": {},
     "output_type": "execute_result"
    }
   ],
   "source": [
    "t[::-1]"
   ]
  },
  {
   "cell_type": "code",
   "execution_count": 9,
   "id": "f073361f-39f0-43c6-bef9-f1184afd32a7",
   "metadata": {},
   "outputs": [
    {
     "data": {
      "text/plain": [
       "1"
      ]
     },
     "execution_count": 9,
     "metadata": {},
     "output_type": "execute_result"
    }
   ],
   "source": [
    "t.count(5)"
   ]
  },
  {
   "cell_type": "code",
   "execution_count": 10,
   "id": "b8318936-6d40-4f26-b8b4-1adaf34074e0",
   "metadata": {},
   "outputs": [
    {
     "data": {
      "text/plain": [
       "4"
      ]
     },
     "execution_count": 10,
     "metadata": {},
     "output_type": "execute_result"
    }
   ],
   "source": [
    "t.index('Prince')"
   ]
  },
  {
   "cell_type": "code",
   "execution_count": 12,
   "id": "d001491f-a7ea-450e-87f5-9d63fb8969df",
   "metadata": {},
   "outputs": [],
   "source": [
    "s = {}"
   ]
  },
  {
   "cell_type": "code",
   "execution_count": 14,
   "id": "efc5d158-996a-4002-81f7-8a20f43901f5",
   "metadata": {},
   "outputs": [
    {
     "data": {
      "text/plain": [
       "dict"
      ]
     },
     "execution_count": 14,
     "metadata": {},
     "output_type": "execute_result"
    }
   ],
   "source": [
    "type(s)"
   ]
  },
  {
   "cell_type": "code",
   "execution_count": 16,
   "id": "a0a03c5b-e3a5-402e-beab-daf75ebe7238",
   "metadata": {},
   "outputs": [],
   "source": [
    "s1 = {2,6,5,9,52,1,5,}"
   ]
  },
  {
   "cell_type": "code",
   "execution_count": 17,
   "id": "528444ff-e2f4-49e7-9728-3db62f42f457",
   "metadata": {},
   "outputs": [
    {
     "data": {
      "text/plain": [
       "set"
      ]
     },
     "execution_count": 17,
     "metadata": {},
     "output_type": "execute_result"
    }
   ],
   "source": [
    "type(s1)"
   ]
  },
  {
   "cell_type": "code",
   "execution_count": 20,
   "id": "f3f8d41e-cebb-42e8-a63d-011240461ee3",
   "metadata": {},
   "outputs": [
    {
     "data": {
      "text/plain": [
       "'set ke ander only set rakh shakte hai or \\nmutable rakh shakte hai'"
      ]
     },
     "execution_count": 20,
     "metadata": {},
     "output_type": "execute_result"
    }
   ],
   "source": [
    "s2 = {56.26,5,5,54,95,\"Prince\"}\n",
    "'''set ke ander only set rakh shakte hai or \n",
    "mutable rakh shakte hai'''"
   ]
  },
  {
   "cell_type": "code",
   "execution_count": 24,
   "id": "a80e2a40-7429-4efc-90ab-a248ad4f3e5c",
   "metadata": {},
   "outputs": [],
   "source": [
    "s3 = {5,6,9,5,2,3,5,9,2,3,612,35,6,41,26,1,5,'prince','prince'}"
   ]
  },
  {
   "cell_type": "code",
   "execution_count": 27,
   "id": "19d1f0e1-e166-4986-b5f9-dc56eae261c8",
   "metadata": {},
   "outputs": [],
   "source": [
    "s3 =list(set(s3))\n",
    "#remove the dubliket and\n",
    "# print unice number"
   ]
  },
  {
   "cell_type": "code",
   "execution_count": 30,
   "id": "3eae3376-ade9-4e30-bec5-4720c80a0767",
   "metadata": {},
   "outputs": [
    {
     "data": {
      "text/plain": [
       "[1, 2, 3, 612, 5, 6, 35, 'prince', 9, 41, 26]"
      ]
     },
     "execution_count": 30,
     "metadata": {},
     "output_type": "execute_result"
    }
   ],
   "source": [
    "s3"
   ]
  },
  {
   "cell_type": "code",
   "execution_count": 31,
   "id": "12b4bf08-8ae6-4582-8082-07e55831aa4b",
   "metadata": {},
   "outputs": [
    {
     "data": {
      "text/plain": [
       "{1, 2, 5, 6, 9, 52}"
      ]
     },
     "execution_count": 31,
     "metadata": {},
     "output_type": "execute_result"
    }
   ],
   "source": [
    "s1"
   ]
  },
  {
   "cell_type": "code",
   "execution_count": 33,
   "id": "1116e0a8-468a-4995-9a16-877d14c509e6",
   "metadata": {},
   "outputs": [],
   "source": [
    "s4 ={265,556,22,5626,2656,565,266,6,6,\"abc\"}"
   ]
  },
  {
   "cell_type": "code",
   "execution_count": 34,
   "id": "82eb30b3-7f6f-43c3-80b7-093283828d2e",
   "metadata": {},
   "outputs": [
    {
     "data": {
      "text/plain": [
       "{22, 265, 2656, 266, 556, 5626, 565, 6, 'abc'}"
      ]
     },
     "execution_count": 34,
     "metadata": {},
     "output_type": "execute_result"
    }
   ],
   "source": [
    "s4"
   ]
  },
  {
   "cell_type": "code",
   "execution_count": 35,
   "id": "5854ad15-0c4d-400d-9dcf-152bf084aae3",
   "metadata": {},
   "outputs": [
    {
     "ename": "TypeError",
     "evalue": "'set' object is not subscriptable",
     "output_type": "error",
     "traceback": [
      "\u001b[0;31m---------------------------------------------------------------------------\u001b[0m",
      "\u001b[0;31mTypeError\u001b[0m                                 Traceback (most recent call last)",
      "Cell \u001b[0;32mIn[35], line 1\u001b[0m\n\u001b[0;32m----> 1\u001b[0m \u001b[43ms4\u001b[49m\u001b[43m[\u001b[49m\u001b[38;5;241;43m0\u001b[39;49m\u001b[43m]\u001b[49m\n",
      "\u001b[0;31mTypeError\u001b[0m: 'set' object is not subscriptable"
     ]
    }
   ],
   "source": [
    "s4[0]"
   ]
  },
  {
   "cell_type": "code",
   "execution_count": 36,
   "id": "cc5feff2-2766-4e30-b007-fe9a5a26144e",
   "metadata": {},
   "outputs": [
    {
     "ename": "TypeError",
     "evalue": "'set' object is not subscriptable",
     "output_type": "error",
     "traceback": [
      "\u001b[0;31m---------------------------------------------------------------------------\u001b[0m",
      "\u001b[0;31mTypeError\u001b[0m                                 Traceback (most recent call last)",
      "Cell \u001b[0;32mIn[36], line 1\u001b[0m\n\u001b[0;32m----> 1\u001b[0m \u001b[43ms4\u001b[49m\u001b[43m[\u001b[49m\u001b[43m:\u001b[49m\u001b[43m:\u001b[49m\u001b[38;5;241;43m-\u001b[39;49m\u001b[38;5;241;43m1\u001b[39;49m\u001b[43m]\u001b[49m\n",
      "\u001b[0;31mTypeError\u001b[0m: 'set' object is not subscriptable"
     ]
    }
   ],
   "source": [
    "s4[::-1]"
   ]
  },
  {
   "cell_type": "code",
   "execution_count": 37,
   "id": "c84ef0f7-d22a-4a3c-afdf-818b05a75e9c",
   "metadata": {},
   "outputs": [],
   "source": [
    "s4.add(95)"
   ]
  },
  {
   "cell_type": "code",
   "execution_count": 38,
   "id": "91b3a4ec-97fd-4014-8b8f-d660cf5a4dd8",
   "metadata": {},
   "outputs": [
    {
     "data": {
      "text/plain": [
       "{22, 265, 2656, 266, 556, 5626, 565, 6, 95, 'abc'}"
      ]
     },
     "execution_count": 38,
     "metadata": {},
     "output_type": "execute_result"
    }
   ],
   "source": [
    "s4"
   ]
  },
  {
   "cell_type": "code",
   "execution_count": 41,
   "id": "60425753-92b7-4a8d-a15b-0a086945f7ec",
   "metadata": {},
   "outputs": [],
   "source": [
    "s4.remove(6)"
   ]
  },
  {
   "cell_type": "code",
   "execution_count": 42,
   "id": "d6a8f63a-84a9-44ea-a68c-900e4ce78c4c",
   "metadata": {},
   "outputs": [
    {
     "data": {
      "text/plain": [
       "{22, 265, 2656, 266, 556, 5626, 565, 95, 'abc'}"
      ]
     },
     "execution_count": 42,
     "metadata": {},
     "output_type": "execute_result"
    }
   ],
   "source": [
    "s4"
   ]
  },
  {
   "cell_type": "code",
   "execution_count": null,
   "id": "f03dd648-f8b9-4b94-9bdc-861f229a9a7f",
   "metadata": {},
   "outputs": [],
   "source": []
  }
 ],
 "metadata": {
  "kernelspec": {
   "display_name": "Python 3 (ipykernel)",
   "language": "python",
   "name": "python3"
  },
  "language_info": {
   "codemirror_mode": {
    "name": "ipython",
    "version": 3
   },
   "file_extension": ".py",
   "mimetype": "text/x-python",
   "name": "python",
   "nbconvert_exporter": "python",
   "pygments_lexer": "ipython3",
   "version": "3.10.8"
  }
 },
 "nbformat": 4,
 "nbformat_minor": 5
}
