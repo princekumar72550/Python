{
 "cells": [
  {
   "cell_type": "code",
   "execution_count": 2,
   "id": "34858589-0153-42b3-aa22-932cc709da60",
   "metadata": {},
   "outputs": [
    {
     "name": "stdout",
     "output_type": "stream",
     "text": [
      "1\n",
      "2\n",
      "3\n",
      "4\n",
      "5\n",
      "6\n",
      "7\n",
      "8\n",
      "9\n",
      "10\n"
     ]
    }
   ],
   "source": [
    "a = 1 \n",
    "\n",
    "while a <= 10:\n",
    "    print(a)\n",
    "    a = a+1"
   ]
  },
  {
   "cell_type": "code",
   "execution_count": 5,
   "id": "c3d25581-8b59-4826-9a3c-732424c53c62",
   "metadata": {},
   "outputs": [
    {
     "name": "stdin",
     "output_type": "stream",
     "text": [
      "enter the number 40\n"
     ]
    },
    {
     "data": {
      "text/plain": [
       "820"
      ]
     },
     "execution_count": 5,
     "metadata": {},
     "output_type": "execute_result"
    }
   ],
   "source": [
    "#sum of the number till some point\n",
    "n = int(input(\"enter the number\"))\n",
    "starting_point =0\n",
    "counter =1\n",
    "while counter <=n:\n",
    "    starting_point = starting_point + counter\n",
    "    counter=counter+1\n",
    "starting_point"
   ]
  },
  {
   "cell_type": "code",
   "execution_count": 6,
   "id": "24fcba42-92d6-45c4-b554-2ce76125f33d",
   "metadata": {},
   "outputs": [
    {
     "name": "stdin",
     "output_type": "stream",
     "text": [
      "enter the number 8\n"
     ]
    },
    {
     "data": {
      "text/plain": [
       "40320"
      ]
     },
     "execution_count": 6,
     "metadata": {},
     "output_type": "execute_result"
    }
   ],
   "source": [
    "number = int(input(\"enter the number\"))\n",
    "factorial = 1\n",
    "while number >0:\n",
    "    factorial = factorial*number\n",
    "    number = number -1\n",
    "factorial"
   ]
  },
  {
   "cell_type": "code",
   "execution_count": 7,
   "id": "7293b5e5-74ed-4d31-9c48-e56877d7d9d3",
   "metadata": {},
   "outputs": [],
   "source": [
    "#finonacci serise"
   ]
  },
  {
   "cell_type": "code",
   "execution_count": 19,
   "id": "5949683e-5bab-46f3-bf23-70658056d2a6",
   "metadata": {},
   "outputs": [
    {
     "name": "stdin",
     "output_type": "stream",
     "text": [
      "enter thr number 10\n"
     ]
    },
    {
     "name": "stdout",
     "output_type": "stream",
     "text": [
      "0\n",
      "1\n",
      "1\n",
      "2\n",
      "3\n",
      "5\n",
      "8\n",
      "13\n",
      "21\n",
      "34\n"
     ]
    }
   ],
   "source": [
    "num = int(input(\"enter thr number\"))\n",
    "a = 0\n",
    "b = 1\n",
    "counter= 0\n",
    "while counter < num:\n",
    "    print(a)\n",
    "    c = a+b\n",
    "    a = b\n",
    "    b = c\n",
    "    counter = counter+1"
   ]
  },
  {
   "cell_type": "code",
   "execution_count": 18,
   "id": "08f85028-10a4-4b09-8210-56c80847f06a",
   "metadata": {},
   "outputs": [
    {
     "name": "stdout",
     "output_type": "stream",
     "text": [
      "0\n",
      "1\n",
      "1\n",
      "2\n",
      "3\n",
      "5\n",
      "8\n",
      "13\n",
      "21\n",
      "34\n"
     ]
    }
   ],
   "source": [
    "a=0\n",
    "b=1\n",
    "for i in range(10):\n",
    "    print(a)\n",
    "    c = a+ b\n",
    "    a = b\n",
    "    b = c"
   ]
  },
  {
   "cell_type": "code",
   "execution_count": 21,
   "id": "2c536c49-05bf-41f4-bfc1-73ca4099260d",
   "metadata": {},
   "outputs": [
    {
     "name": "stdin",
     "output_type": "stream",
     "text": [
      "enter the number 10\n"
     ]
    },
    {
     "name": "stdout",
     "output_type": "stream",
     "text": [
      "0\n",
      "1\n",
      "1\n",
      "2\n",
      "3\n",
      "5\n",
      "8\n",
      "13\n",
      "21\n",
      "34\n"
     ]
    }
   ],
   "source": [
    "num = int(input(\"enter the number\"))\n",
    "a=0\n",
    "b=1\n",
    "for i in range(num):\n",
    "          print(a)\n",
    "          c = a +b\n",
    "          a=b\n",
    "          b=c"
   ]
  },
  {
   "cell_type": "code",
   "execution_count": 22,
   "id": "7526e3cf-f244-4deb-bd5b-006e6820c031",
   "metadata": {},
   "outputs": [],
   "source": [
    "s = \"prince\""
   ]
  },
  {
   "cell_type": "code",
   "execution_count": 24,
   "id": "1b32a89d-6b4e-48c2-afbb-bf5457a9872c",
   "metadata": {},
   "outputs": [
    {
     "data": {
      "text/plain": [
       "'ecnirp'"
      ]
     },
     "execution_count": 24,
     "metadata": {},
     "output_type": "execute_result"
    }
   ],
   "source": [
    "s[::-1]"
   ]
  },
  {
   "cell_type": "code",
   "execution_count": 25,
   "id": "c6831ff6-26b8-43f3-a89b-f613fd53383b",
   "metadata": {},
   "outputs": [
    {
     "name": "stdin",
     "output_type": "stream",
     "text": [
      "enter your string for reversal prince\n"
     ]
    }
   ],
   "source": [
    "word = input(\"enter your string for reversal\")"
   ]
  },
  {
   "cell_type": "code",
   "execution_count": 28,
   "id": "6460e6db-1d51-4e49-842f-e5d14851d96e",
   "metadata": {},
   "outputs": [
    {
     "name": "stdout",
     "output_type": "stream",
     "text": [
      "ecnirp\n"
     ]
    }
   ],
   "source": [
    "reverse = \"\"\n",
    "length = len(word)\n",
    "while length > 0:\n",
    "    reverse = reverse + word[length - 1]\n",
    "    length = length-1\n",
    "print(reverse)"
   ]
  },
  {
   "cell_type": "code",
   "execution_count": 8,
   "id": "4923f4df-9a85-4a7a-8f3d-a9b144b5097b",
   "metadata": {},
   "outputs": [
    {
     "name": "stdin",
     "output_type": "stream",
     "text": [
      "enter the your number 4\n"
     ]
    },
    {
     "name": "stdout",
     "output_type": "stream",
     "text": [
      "4 *  1 = 4\n",
      "4 *  2 = 8\n",
      "4 *  3 = 12\n",
      "4 *  4 = 16\n",
      "4 *  5 = 20\n",
      "4 *  6 = 24\n",
      "4 *  7 = 28\n",
      "4 *  8 = 32\n",
      "4 *  9 = 36\n",
      "4 *  10 = 40\n"
     ]
    }
   ],
   "source": [
    "#print table of number\n",
    "n = int(input(\"enter the your number\"))\n",
    "i = 1\n",
    "while i <= 10:\n",
    "        result = n *i\n",
    "        print(n ,\"* \" ,i,\"=\",result)\n",
    "        i = i+1"
   ]
  },
  {
   "cell_type": "code",
   "execution_count": 11,
   "id": "7b96868c-c7c6-4c0f-90f1-3b6a4c759cfc",
   "metadata": {},
   "outputs": [
    {
     "name": "stdout",
     "output_type": "stream",
     "text": [
      "1\n",
      "2\n",
      "3\n"
     ]
    }
   ],
   "source": [
    "n = 5 \n",
    "i = 1\n",
    "while i<n:\n",
    "    print(i)\n",
    "    if i==3:\n",
    "        break\n",
    "    i = i+1\n",
    "else :\n",
    "    print(\"this will be executed once while will complete it sucesfully\")"
   ]
  },
  {
   "cell_type": "code",
   "execution_count": null,
   "id": "1cdcf1fb-26d7-4586-8666-7d90170be1c3",
   "metadata": {},
   "outputs": [],
   "source": []
  }
 ],
 "metadata": {
  "kernelspec": {
   "display_name": "Python 3 (ipykernel)",
   "language": "python",
   "name": "python3"
  },
  "language_info": {
   "codemirror_mode": {
    "name": "ipython",
    "version": 3
   },
   "file_extension": ".py",
   "mimetype": "text/x-python",
   "name": "python",
   "nbconvert_exporter": "python",
   "pygments_lexer": "ipython3",
   "version": "3.10.8"
  }
 },
 "nbformat": 4,
 "nbformat_minor": 5
}
