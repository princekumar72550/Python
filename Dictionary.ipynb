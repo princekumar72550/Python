{
 "cells": [
  {
   "cell_type": "code",
   "execution_count": 1,
   "id": "e4d9180a-413c-41fb-bd85-26a2c6e5cbed",
   "metadata": {},
   "outputs": [],
   "source": [
    "d = {}"
   ]
  },
  {
   "cell_type": "code",
   "execution_count": 2,
   "id": "1dd3c018-2b79-47fc-bfbc-53ad67429592",
   "metadata": {},
   "outputs": [
    {
     "data": {
      "text/plain": [
       "dict"
      ]
     },
     "execution_count": 2,
     "metadata": {},
     "output_type": "execute_result"
    }
   ],
   "source": [
    "type(d)"
   ]
  },
  {
   "cell_type": "code",
   "execution_count": 3,
   "id": "3145a400-e8cd-41aa-b18b-9054fed450da",
   "metadata": {},
   "outputs": [],
   "source": [
    "d1 = {'key' :\"Prince\"}\n",
    "#key is always be unice "
   ]
  },
  {
   "cell_type": "code",
   "execution_count": 4,
   "id": "c481ad57-d73d-405b-a157-ddc8d3a72989",
   "metadata": {},
   "outputs": [
    {
     "data": {
      "text/plain": [
       "{'key': 'Prince'}"
      ]
     },
     "execution_count": 4,
     "metadata": {},
     "output_type": "execute_result"
    }
   ],
   "source": [
    "d1"
   ]
  },
  {
   "cell_type": "code",
   "execution_count": 5,
   "id": "d490000b-42dc-4cae-ba46-5170400e8a8c",
   "metadata": {},
   "outputs": [],
   "source": [
    "d2 = {'name' : \"Prince\",\"email\" : \"prince@6695\",\"number\" : 5484}"
   ]
  },
  {
   "cell_type": "code",
   "execution_count": 6,
   "id": "9ae83712-b7a1-4d02-a5a4-182a2e9fd43d",
   "metadata": {},
   "outputs": [
    {
     "data": {
      "text/plain": [
       "{'name': 'Prince', 'email': 'prince@6695', 'number': 5484}"
      ]
     },
     "execution_count": 6,
     "metadata": {},
     "output_type": "execute_result"
    }
   ],
   "source": [
    "d2"
   ]
  },
  {
   "cell_type": "code",
   "execution_count": 10,
   "id": "bd96bd84-62ef-4578-ab58-05df3cc2ceaa",
   "metadata": {},
   "outputs": [
    {
     "ename": "SyntaxError",
     "evalue": "invalid syntax (2052617510.py, line 1)",
     "output_type": "error",
     "traceback": [
      "\u001b[0;36m  Cell \u001b[0;32mIn[10], line 1\u001b[0;36m\u001b[0m\n\u001b[0;31m    d3 ={123:\"prince\",@:\"kumar\",_:\"raj\"}\u001b[0m\n\u001b[0m                      ^\u001b[0m\n\u001b[0;31mSyntaxError\u001b[0m\u001b[0;31m:\u001b[0m invalid syntax\n"
     ]
    }
   ],
   "source": [
    "d3 ={123:\"prince\",@:\"kumar\",_:\"raj\"}\n",
    "#special case carector nahi le shakte hai"
   ]
  },
  {
   "cell_type": "code",
   "execution_count": 11,
   "id": "73970f7a-0296-4615-906c-0775ec05932f",
   "metadata": {},
   "outputs": [
    {
     "data": {
      "text/plain": [
       "{'name': 'Prince', 'email': 'prince@6695', 'number': 5484}"
      ]
     },
     "execution_count": 11,
     "metadata": {},
     "output_type": "execute_result"
    }
   ],
   "source": [
    "d2"
   ]
  },
  {
   "cell_type": "code",
   "execution_count": 12,
   "id": "75a5b412-2ff4-4cb3-b004-409b403ac129",
   "metadata": {},
   "outputs": [
    {
     "data": {
      "text/plain": [
       "'Prince'"
      ]
     },
     "execution_count": 12,
     "metadata": {},
     "output_type": "execute_result"
    }
   ],
   "source": [
    "d2['name']"
   ]
  },
  {
   "cell_type": "code",
   "execution_count": 14,
   "id": "f775f4ae-1b60-44ee-a846-d04baba01e2c",
   "metadata": {},
   "outputs": [],
   "source": [
    "d4 = {\"name\":\"prince\",\"name\":\"prince kumar\"}"
   ]
  },
  {
   "cell_type": "code",
   "execution_count": 16,
   "id": "a12a4255-ed56-4990-a5ee-c3000fc1c617",
   "metadata": {},
   "outputs": [
    {
     "data": {
      "text/plain": [
       "'prince kumar'"
      ]
     },
     "execution_count": 16,
     "metadata": {},
     "output_type": "execute_result"
    }
   ],
   "source": [
    "d4[\"name\"]"
   ]
  },
  {
   "cell_type": "code",
   "execution_count": 17,
   "id": "725f6d08-3feb-4a6b-ae89-11c68cbd50ff",
   "metadata": {},
   "outputs": [],
   "source": [
    "d5 ={\"company\":\"pw\",\"course\":[\"web\",\"data\",\"java\"]}"
   ]
  },
  {
   "cell_type": "code",
   "execution_count": 18,
   "id": "31fdcdd3-c360-49d8-be48-c7811c684e42",
   "metadata": {},
   "outputs": [
    {
     "data": {
      "text/plain": [
       "{'company': 'pw', 'course': ['web', 'data', 'java']}"
      ]
     },
     "execution_count": 18,
     "metadata": {},
     "output_type": "execute_result"
    }
   ],
   "source": [
    "d5"
   ]
  },
  {
   "cell_type": "code",
   "execution_count": 19,
   "id": "b27c5540-ff8e-4197-bc44-ad1143505766",
   "metadata": {},
   "outputs": [
    {
     "data": {
      "text/plain": [
       "['web', 'data', 'java']"
      ]
     },
     "execution_count": 19,
     "metadata": {},
     "output_type": "execute_result"
    }
   ],
   "source": [
    "d5['course']"
   ]
  },
  {
   "cell_type": "code",
   "execution_count": 20,
   "id": "4e631528-bfe1-4bf1-933b-ce48a2e5f45a",
   "metadata": {},
   "outputs": [
    {
     "data": {
      "text/plain": [
       "'java'"
      ]
     },
     "execution_count": 20,
     "metadata": {},
     "output_type": "execute_result"
    }
   ],
   "source": [
    "d5['course'][2]"
   ]
  },
  {
   "cell_type": "code",
   "execution_count": 23,
   "id": "a39b2d16-c850-4520-9a9a-a6b784d44543",
   "metadata": {},
   "outputs": [],
   "source": [
    "d6 ={\"number\":[15,6,65,6],\"assi\":(1,6,9,3,),\"lunch_date\":{28,12,14},\"class_time\":{\"web\":8,\"data\":8,\"java\":7}}"
   ]
  },
  {
   "cell_type": "code",
   "execution_count": 24,
   "id": "8cc97fb6-950f-463b-9d14-686f0ff5538d",
   "metadata": {},
   "outputs": [
    {
     "data": {
      "text/plain": [
       "{'number': [15, 6, 65, 6],\n",
       " 'assi': (1, 6, 9, 3),\n",
       " 'lunch_date': {12, 14, 28},\n",
       " 'class_time': {'web': 8, 'data': 8, 'java': 7}}"
      ]
     },
     "execution_count": 24,
     "metadata": {},
     "output_type": "execute_result"
    }
   ],
   "source": [
    "d6"
   ]
  },
  {
   "cell_type": "code",
   "execution_count": 26,
   "id": "dff8c322-41d3-4d7a-b137-080102e678ca",
   "metadata": {},
   "outputs": [
    {
     "data": {
      "text/plain": [
       "7"
      ]
     },
     "execution_count": 26,
     "metadata": {},
     "output_type": "execute_result"
    }
   ],
   "source": [
    "d6['class_time']['java']"
   ]
  },
  {
   "cell_type": "code",
   "execution_count": 27,
   "id": "cec14ee9-1e41-4bb3-ad3a-c1c1f77ffa77",
   "metadata": {},
   "outputs": [],
   "source": [
    "d6['mentor']=[\"sudhanshu\",\"krish\"]"
   ]
  },
  {
   "cell_type": "code",
   "execution_count": 28,
   "id": "28106b10-771f-46d9-aab8-3697eff65392",
   "metadata": {},
   "outputs": [
    {
     "data": {
      "text/plain": [
       "{'number': [15, 6, 65, 6],\n",
       " 'assi': (1, 6, 9, 3),\n",
       " 'lunch_date': {12, 14, 28},\n",
       " 'class_time': {'web': 8, 'data': 8, 'java': 7},\n",
       " 'mentor': ['sudhanshu', 'krish']}"
      ]
     },
     "execution_count": 28,
     "metadata": {},
     "output_type": "execute_result"
    }
   ],
   "source": [
    "d6"
   ]
  },
  {
   "cell_type": "code",
   "execution_count": 29,
   "id": "206fb516-7d8f-4543-8a48-3f27a3e05382",
   "metadata": {},
   "outputs": [],
   "source": [
    "del d6['number']"
   ]
  },
  {
   "cell_type": "code",
   "execution_count": 30,
   "id": "98998ff0-3788-4752-b7ab-19adb70989dd",
   "metadata": {},
   "outputs": [
    {
     "data": {
      "text/plain": [
       "{'assi': (1, 6, 9, 3),\n",
       " 'lunch_date': {12, 14, 28},\n",
       " 'class_time': {'web': 8, 'data': 8, 'java': 7},\n",
       " 'mentor': ['sudhanshu', 'krish']}"
      ]
     },
     "execution_count": 30,
     "metadata": {},
     "output_type": "execute_result"
    }
   ],
   "source": [
    "d6"
   ]
  },
  {
   "cell_type": "code",
   "execution_count": 31,
   "id": "8b554fcb-deb9-4931-ac29-c440de275dac",
   "metadata": {},
   "outputs": [
    {
     "data": {
      "text/plain": [
       "dict_keys(['assi', 'lunch_date', 'class_time', 'mentor'])"
      ]
     },
     "execution_count": 31,
     "metadata": {},
     "output_type": "execute_result"
    }
   ],
   "source": [
    "d6.keys()"
   ]
  },
  {
   "cell_type": "code",
   "execution_count": 32,
   "id": "d66b0f53-d232-4f50-b4e7-976ea673bb4f",
   "metadata": {},
   "outputs": [
    {
     "data": {
      "text/plain": [
       "['assi', 'lunch_date', 'class_time', 'mentor']"
      ]
     },
     "execution_count": 32,
     "metadata": {},
     "output_type": "execute_result"
    }
   ],
   "source": [
    "list(d6.keys())"
   ]
  },
  {
   "cell_type": "code",
   "execution_count": 34,
   "id": "6586d901-bf33-4c85-8b77-a82c4983975a",
   "metadata": {},
   "outputs": [
    {
     "data": {
      "text/plain": [
       "[(1, 6, 9, 3),\n",
       " {12, 14, 28},\n",
       " {'web': 8, 'data': 8, 'java': 7},\n",
       " ['sudhanshu', 'krish']]"
      ]
     },
     "execution_count": 34,
     "metadata": {},
     "output_type": "execute_result"
    }
   ],
   "source": [
    "list(d6.values())"
   ]
  },
  {
   "cell_type": "code",
   "execution_count": 37,
   "id": "7b60a544-e79c-4bb2-bc8d-d29ff183102b",
   "metadata": {},
   "outputs": [
    {
     "data": {
      "text/plain": [
       "[('assi', (1, 6, 9, 3)),\n",
       " ('lunch_date', {12, 14, 28}),\n",
       " ('class_time', {'web': 8, 'data': 8, 'java': 7}),\n",
       " ('mentor', ['sudhanshu', 'krish'])]"
      ]
     },
     "execution_count": 37,
     "metadata": {},
     "output_type": "execute_result"
    }
   ],
   "source": [
    "list(d6.items())"
   ]
  },
  {
   "cell_type": "code",
   "execution_count": 38,
   "id": "cb1ac91d-1ced-4c40-81a1-402714331a9e",
   "metadata": {},
   "outputs": [
    {
     "data": {
      "text/plain": [
       "(1, 6, 9, 3)"
      ]
     },
     "execution_count": 38,
     "metadata": {},
     "output_type": "execute_result"
    }
   ],
   "source": [
    "d6.pop('assi')"
   ]
  },
  {
   "cell_type": "code",
   "execution_count": 39,
   "id": "69a3521a-71c7-4e45-9dac-3b53e2242768",
   "metadata": {},
   "outputs": [
    {
     "data": {
      "text/plain": [
       "{'lunch_date': {12, 14, 28},\n",
       " 'class_time': {'web': 8, 'data': 8, 'java': 7},\n",
       " 'mentor': ['sudhanshu', 'krish']}"
      ]
     },
     "execution_count": 39,
     "metadata": {},
     "output_type": "execute_result"
    }
   ],
   "source": [
    "d6"
   ]
  },
  {
   "cell_type": "code",
   "execution_count": null,
   "id": "ac1c5dce-87a9-4de1-8b7b-96bc239a94d6",
   "metadata": {},
   "outputs": [],
   "source": []
  }
 ],
 "metadata": {
  "kernelspec": {
   "display_name": "Python 3 (ipykernel)",
   "language": "python",
   "name": "python3"
  },
  "language_info": {
   "codemirror_mode": {
    "name": "ipython",
    "version": 3
   },
   "file_extension": ".py",
   "mimetype": "text/x-python",
   "name": "python",
   "nbconvert_exporter": "python",
   "pygments_lexer": "ipython3",
   "version": "3.10.8"
  }
 },
 "nbformat": 4,
 "nbformat_minor": 5
}
