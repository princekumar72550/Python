{
 "cells": [
  {
   "cell_type": "code",
   "execution_count": 17,
   "id": "5fb06efc-cbb6-46cb-8fd5-16e15a69aa3a",
   "metadata": {},
   "outputs": [
    {
     "name": "stdin",
     "output_type": "stream",
     "text": [
      "Enter the marks 54\n"
     ]
    },
    {
     "name": "stdout",
     "output_type": "stream",
     "text": [
      "you will be a part of A2 batch\n"
     ]
    }
   ],
   "source": [
    "marks = int(input('Enter the marks'))\n",
    "if marks >= 80:\n",
    "    print(\"you will be a part of A0 batch\")\n",
    "elif marks >= 60 and marks< 80:\n",
    "    print(\"you will be a part of A1 batch\")\n",
    "elif marks >= 40 and marks < 60:\n",
    "    print(\"you will be a part of A2 batch\")\n",
    "else:\n",
    "    print(\"you will be a part of A3 batch\")"
   ]
  },
  {
   "cell_type": "code",
   "execution_count": 11,
   "id": "6cde7e4e-df6b-4666-b3f8-5224915e4fea",
   "metadata": {},
   "outputs": [
    {
     "name": "stdin",
     "output_type": "stream",
     "text": [
      "Enter the number 65\n"
     ]
    }
   ],
   "source": [
    "marks =input(\"Enter the number\")"
   ]
  },
  {
   "cell_type": "code",
   "execution_count": 12,
   "id": "32638614-0973-431f-bf7a-88c9144cbf16",
   "metadata": {},
   "outputs": [
    {
     "data": {
      "text/plain": [
       "'65'"
      ]
     },
     "execution_count": 12,
     "metadata": {},
     "output_type": "execute_result"
    }
   ],
   "source": [
    "marks"
   ]
  },
  {
   "cell_type": "code",
   "execution_count": 13,
   "id": "d8b8d5e5-2479-426b-8450-48c2966d8287",
   "metadata": {},
   "outputs": [
    {
     "data": {
      "text/plain": [
       "str"
      ]
     },
     "execution_count": 13,
     "metadata": {},
     "output_type": "execute_result"
    }
   ],
   "source": [
    "type(marks)"
   ]
  },
  {
   "cell_type": "code",
   "execution_count": 14,
   "id": "53a2804f-a8d0-40ec-b3dd-e98385289086",
   "metadata": {},
   "outputs": [
    {
     "name": "stdin",
     "output_type": "stream",
     "text": [
      "Enter the number 54\n"
     ]
    }
   ],
   "source": [
    "marks =int(input(\"Enter the number\"))"
   ]
  },
  {
   "cell_type": "code",
   "execution_count": 15,
   "id": "dbfb8391-b856-4da7-bf09-4023d678f6cb",
   "metadata": {},
   "outputs": [
    {
     "data": {
      "text/plain": [
       "54"
      ]
     },
     "execution_count": 15,
     "metadata": {},
     "output_type": "execute_result"
    }
   ],
   "source": [
    "marks"
   ]
  },
  {
   "cell_type": "code",
   "execution_count": 16,
   "id": "24475db9-60ef-430e-8424-0c363068dd70",
   "metadata": {},
   "outputs": [
    {
     "data": {
      "text/plain": [
       "int"
      ]
     },
     "execution_count": 16,
     "metadata": {},
     "output_type": "execute_result"
    }
   ],
   "source": [
    "type(marks)"
   ]
  },
  {
   "cell_type": "code",
   "execution_count": 19,
   "id": "9b90b3cc-3cc5-42de-8554-2b1cfb2a15ca",
   "metadata": {},
   "outputs": [
    {
     "name": "stdin",
     "output_type": "stream",
     "text": [
      "Enter the price 7450\n"
     ]
    },
    {
     "name": "stdout",
     "output_type": "stream",
     "text": [
      "i will not purchase\n"
     ]
    }
   ],
   "source": [
    "price = int(input(\"Enter the price\"))\n",
    "if price > 1000:\n",
    "    print(\"i will not purchase\")\n",
    "else :\n",
    "    print(\"i will purchase\")"
   ]
  },
  {
   "cell_type": "code",
   "execution_count": 43,
   "id": "8329f5cb-2e5f-47f3-a3c5-6fbfcfc7cc9c",
   "metadata": {},
   "outputs": [
    {
     "name": "stdin",
     "output_type": "stream",
     "text": [
      "Enter the price 6524\n"
     ]
    },
    {
     "name": "stdout",
     "output_type": "stream",
     "text": [
      "i will not purchase\n",
      "this is too much\n"
     ]
    }
   ],
   "source": [
    "price = int(input(\"Enter the price\"))\n",
    "if price > 1000:\n",
    "    print(\"i will not purchase\")\n",
    "    if price > 5000:\n",
    "        print(\"this is too much\")\n",
    "    elif price < 2000 :\n",
    "            print(\"its ok\")\n",
    "elif price < 1000 :\n",
    "    print(\"i will purchage\")\n",
    "          \n",
    "else :\n",
    "    print(\"not interested\")"
   ]
  },
  {
   "cell_type": "code",
   "execution_count": 47,
   "id": "306fbb8b-46a9-4b13-938c-960639d14bdd",
   "metadata": {},
   "outputs": [],
   "source": [
    "l = [6,5,6,5,9,5,2,65,6,5,1]\n",
    "#all element +1"
   ]
  },
  {
   "cell_type": "code",
   "execution_count": 10,
   "id": "4d16cafd-b24c-42ce-a034-c45e25612d16",
   "metadata": {},
   "outputs": [
    {
     "name": "stdout",
     "output_type": "stream",
     "text": [
      "7\n",
      "5\n",
      "7\n",
      "5\n",
      "9\n",
      "5\n",
      "6\n"
     ]
    }
   ],
   "source": [
    "for i in l :\n",
    "    print(i+1)"
   ]
  },
  {
   "cell_type": "code",
   "execution_count": 73,
   "id": "2bfd6423-3b94-4263-ae6d-1097995095ee",
   "metadata": {},
   "outputs": [],
   "source": [
    "l = [\"Prince\",\"Kumar\",\"PW\"]"
   ]
  },
  {
   "cell_type": "code",
   "execution_count": 63,
   "id": "9f60e478-bee0-400b-a6be-186be7a9cec4",
   "metadata": {},
   "outputs": [
    {
     "name": "stdout",
     "output_type": "stream",
     "text": [
      "Prince\n",
      "Kumar\n",
      "PW\n"
     ]
    }
   ],
   "source": [
    "l1 = []\n",
    "for i in l:\n",
    "    print(i)\n",
    "    l1.append(i.upper())"
   ]
  },
  {
   "cell_type": "code",
   "execution_count": 64,
   "id": "5d93bffd-a8f8-4055-823b-fb8a38c64d89",
   "metadata": {},
   "outputs": [
    {
     "data": {
      "text/plain": [
       "['PRINCE', 'KUMAR', 'PW']"
      ]
     },
     "execution_count": 64,
     "metadata": {},
     "output_type": "execute_result"
    }
   ],
   "source": [
    "l1"
   ]
  },
  {
   "cell_type": "code",
   "execution_count": 65,
   "id": "1af2a576-e12a-48e4-a21a-32f804a118ca",
   "metadata": {},
   "outputs": [],
   "source": [
    "l = [5,5,2,6,4,6,\"Prince\",\"abc\",466.2]"
   ]
  },
  {
   "cell_type": "code",
   "execution_count": 67,
   "id": "ac337908-f3c6-48f1-95b6-7b4a772d09cd",
   "metadata": {},
   "outputs": [],
   "source": [
    "l1 = []\n",
    "l2 = []\n",
    "for i in l :\n",
    "    if type(i) == int or type(i)==float:\n",
    "        l1.append(i)\n",
    "    else :\n",
    "        l2.append(i)"
   ]
  },
  {
   "cell_type": "code",
   "execution_count": 70,
   "id": "899fcb59-55d6-4bf4-8d81-128274af7bd5",
   "metadata": {},
   "outputs": [
    {
     "data": {
      "text/plain": [
       "[5, 5, 2, 6, 4, 6, 466.2]"
      ]
     },
     "execution_count": 70,
     "metadata": {},
     "output_type": "execute_result"
    }
   ],
   "source": [
    "l1"
   ]
  },
  {
   "cell_type": "code",
   "execution_count": 71,
   "id": "663179df-baa5-4afc-8de8-65f2c50ec323",
   "metadata": {},
   "outputs": [
    {
     "data": {
      "text/plain": [
       "['Prince', 'abc']"
      ]
     },
     "execution_count": 71,
     "metadata": {},
     "output_type": "execute_result"
    }
   ],
   "source": [
    "l2"
   ]
  },
  {
   "cell_type": "code",
   "execution_count": 4,
   "id": "47a9ef55-c537-4e1a-af42-45c121bb5297",
   "metadata": {},
   "outputs": [],
   "source": [
    "l=[6,4,6,4,8,4,5]"
   ]
  },
  {
   "cell_type": "code",
   "execution_count": 11,
   "id": "5277fba4-9cf3-4685-8291-70341e3569a1",
   "metadata": {},
   "outputs": [
    {
     "name": "stdout",
     "output_type": "stream",
     "text": [
      "6 <class 'int'>\n",
      "4 <class 'int'>\n",
      "6 <class 'int'>\n",
      "4 <class 'int'>\n",
      "8 <class 'int'>\n",
      "4 <class 'int'>\n",
      "5 <class 'int'>\n"
     ]
    }
   ],
   "source": [
    "for i in l :\n",
    "    print(i , type(i))"
   ]
  },
  {
   "cell_type": "code",
   "execution_count": 21,
   "id": "191ab32b-67d4-47aa-9601-c927d882903e",
   "metadata": {},
   "outputs": [],
   "source": [
    "l1 =[ \"prince\",\"kumar\",\"raju\"]"
   ]
  },
  {
   "cell_type": "code",
   "execution_count": 22,
   "id": "d8df2c6d-7fca-4d56-b8bd-83f827c74876",
   "metadata": {},
   "outputs": [
    {
     "name": "stdout",
     "output_type": "stream",
     "text": [
      "prince\n",
      "kumar\n",
      "raju\n"
     ]
    }
   ],
   "source": [
    "for i in l1 :\n",
    "    print(i)"
   ]
  },
  {
   "cell_type": "code",
   "execution_count": 23,
   "id": "9989eaff-5705-46c9-b590-8e87b216afd8",
   "metadata": {},
   "outputs": [
    {
     "name": "stdout",
     "output_type": "stream",
     "text": [
      "prince\n",
      "kumar\n",
      "raju\n",
      "do somthing\n"
     ]
    }
   ],
   "source": [
    "for i in l1 :\n",
    "    print(i)\n",
    "else :\n",
    "    print('do somthing')\n",
    "    ''' if for loop is able to complete\n",
    "    itself then only else will execute'''"
   ]
  },
  {
   "cell_type": "code",
   "execution_count": 24,
   "id": "6cc1c578-8d78-447b-8f57-3cd85fb7143f",
   "metadata": {},
   "outputs": [
    {
     "name": "stdout",
     "output_type": "stream",
     "text": [
      "prince\n"
     ]
    }
   ],
   "source": [
    "for i in l1 :\n",
    "    if i == \"kumar\":\n",
    "        break\n",
    "    print(i)"
   ]
  },
  {
   "cell_type": "code",
   "execution_count": 25,
   "id": "d8d583f4-eff6-4d78-8ef7-37b34d4f3c46",
   "metadata": {},
   "outputs": [
    {
     "data": {
      "text/plain": [
       "['prince', 'kumar', 'raju']"
      ]
     },
     "execution_count": 25,
     "metadata": {},
     "output_type": "execute_result"
    }
   ],
   "source": [
    "l1"
   ]
  },
  {
   "cell_type": "code",
   "execution_count": 26,
   "id": "1f0cec22-a62d-4020-9e20-157d986b7ec4",
   "metadata": {},
   "outputs": [
    {
     "name": "stdout",
     "output_type": "stream",
     "text": [
      "prince\n"
     ]
    }
   ],
   "source": [
    "for i in l1:\n",
    "    if i == \"kumar\":\n",
    "        break\n",
    "    print(i)\n",
    "else :\n",
    "    print(\"execute this if for loop is able to complete itself\")"
   ]
  },
  {
   "cell_type": "code",
   "execution_count": 36,
   "id": "ac6c8e82-b175-4048-b67e-8576d1e3e278",
   "metadata": {},
   "outputs": [
    {
     "name": "stdout",
     "output_type": "stream",
     "text": [
      "prince\n",
      "raju\n"
     ]
    }
   ],
   "source": [
    "for i in l1 :\n",
    "    if i == \"kumar\":\n",
    "        continue\n",
    "    print(i)"
   ]
  },
  {
   "cell_type": "code",
   "execution_count": null,
   "id": "04c7bf22-fcca-4f81-80a9-fae3b084da6a",
   "metadata": {},
   "outputs": [],
   "source": []
  }
 ],
 "metadata": {
  "kernelspec": {
   "display_name": "Python 3 (ipykernel)",
   "language": "python",
   "name": "python3"
  },
  "language_info": {
   "codemirror_mode": {
    "name": "ipython",
    "version": 3
   },
   "file_extension": ".py",
   "mimetype": "text/x-python",
   "name": "python",
   "nbconvert_exporter": "python",
   "pygments_lexer": "ipython3",
   "version": "3.10.8"
  }
 },
 "nbformat": 4,
 "nbformat_minor": 5
}
